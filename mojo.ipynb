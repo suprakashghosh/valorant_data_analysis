{
 "cells": [
  {
   "cell_type": "code",
   "execution_count": 1,
   "metadata": {},
   "outputs": [],
   "source": [
    "\n",
    "%load_ext autoreload\n",
    "%autoreload 2"
   ]
  },
  {
   "cell_type": "code",
   "execution_count": 2,
   "metadata": {},
   "outputs": [],
   "source": [
    "import os\n",
    "import pandas as pd\n",
    "import numpy as np \n",
    "import json\n",
    "from pydantic_models.valorant_match_api_pydantic_model import ValorantMatchAPIModel\n",
    "from sqlalchemy_models.sqlalchemy_models import Base\n",
    "from loading import *\n",
    "from ipywidgets import IntProgress\n",
    "from IPython.display import display\n",
    "from time import sleep\n",
    "import concurrent.futures\n",
    "import json \n",
    "\n"
   ]
  },
  {
   "cell_type": "code",
   "execution_count": 3,
   "metadata": {},
   "outputs": [],
   "source": [
    "username = \"postgres\"\n",
    "password= \"password\"\n",
    "host=\"127.0.0.1\"\n",
    "database_name= \"valorant_match_data\"\n",
    "\n",
    "engine = create_engine(f'postgresql://{username}:{password}@{host}:5432/{database_name}')\n",
    "Session = sessionmaker(bind=engine)\n",
    "\n"
   ]
  },
  {
   "cell_type": "code",
   "execution_count": 12,
   "metadata": {},
   "outputs": [],
   "source": [
    "\n",
    "#Use this to create the database if it doesn't already exist\n",
    "Base.metadata.create_all(engine)"
   ]
  },
  {
   "cell_type": "code",
   "execution_count": 7,
   "metadata": {},
   "outputs": [
    {
     "data": {
      "application/vnd.jupyter.widget-view+json": {
       "model_id": "306409ca5fd644499ebc39064f8c9a6e",
       "version_major": 2,
       "version_minor": 0
      },
      "text/plain": [
       "IntProgress(value=0, layout=Layout(width='1000px'), max=19)"
      ]
     },
     "metadata": {},
     "output_type": "display_data"
    }
   ],
   "source": [
    "\n",
    "files_in_directory = os.listdir(path=\"New folder\")\n",
    "passed=0\n",
    "failed=0\n",
    "progress_bar = IntProgress(min=0, max=len(files_in_directory), layout={'width': '1000px'})\n",
    "display(progress_bar)\n"
   ]
  },
  {
   "cell_type": "code",
   "execution_count": 36,
   "metadata": {},
   "outputs": [
    {
     "name": "stderr",
     "output_type": "stream",
     "text": [
      "INFO:loading:Updating matches with match_id: 57aa4725-f43a-4f4c-a518-3ef0c303d05c\n",
      "INFO:loading:Updating matches with match_id: f33a1b10-cef3-4a0f-aa9c-77b446445d8d\n",
      "INFO:loading:Match data added to the session for match_id: 57aa4725-f43a-4f4c-a518-3ef0c303d05c\n",
      "INFO:loading:Updating matches with match_id: 0a575319-9640-4f2c-87d7-abde244e8440\n",
      "INFO:loading:Updating matches with match_id: 3e37baf4-856e-496c-9798-446e7ca4e573\n",
      "INFO:loading:Updating matches with match_id: 4732a5ae-e238-46fe-b3ba-6b95e06a296d\n",
      "INFO:loading:Match data added to the session for match_id: f33a1b10-cef3-4a0f-aa9c-77b446445d8d\n",
      "INFO:loading:Updating premier match info for match_id: 57aa4725-f43a-4f4c-a518-3ef0c303d05c\n",
      "INFO:loading:Updating matches with match_id: ac72fbb2-dd75-4bb9-bf43-bc59c394cd2a\n",
      "INFO:loading:Updating matches with match_id: 7d7d57b1-aa52-4843-bc9b-05c1e2ddeade\n",
      "INFO:loading:Updating matches with match_id: 8b4d4771-c678-4ce0-9212-73df0e41eddf\n",
      "INFO:loading:Match data added to the session for match_id: 0a575319-9640-4f2c-87d7-abde244e8440\n",
      "INFO:loading:Match data added to the session for match_id: 3e37baf4-856e-496c-9798-446e7ca4e573\n",
      "INFO:loading:Updating premier match info for match_id: 3e37baf4-856e-496c-9798-446e7ca4e573\n",
      "INFO:loading:Premier match info added to the session for match_id: 57aa4725-f43a-4f4c-a518-3ef0c303d05c\n",
      "INFO:loading:Updating party RR penalties for match_id: 57aa4725-f43a-4f4c-a518-3ef0c303d05c\n",
      "INFO:loading:Updating premier match info for match_id: 0a575319-9640-4f2c-87d7-abde244e8440\n",
      "INFO:loading:Updating premier match info for match_id: f33a1b10-cef3-4a0f-aa9c-77b446445d8d\n",
      "INFO:loading:Premier match info added to the session for match_id: 3e37baf4-856e-496c-9798-446e7ca4e573\n",
      "INFO:loading:Match data added to the session for match_id: 4732a5ae-e238-46fe-b3ba-6b95e06a296d\n",
      "INFO:loading:Party RR penalties added to the session for match_id: 57aa4725-f43a-4f4c-a518-3ef0c303d05c\n",
      "INFO:loading:Premier match info added to the session for match_id: 0a575319-9640-4f2c-87d7-abde244e8440\n",
      "INFO:loading:Premier match info added to the session for match_id: f33a1b10-cef3-4a0f-aa9c-77b446445d8d\n",
      "INFO:loading:Updating party RR penalties for match_id: f33a1b10-cef3-4a0f-aa9c-77b446445d8d\n",
      "INFO:loading:Updating premier match info for match_id: 4732a5ae-e238-46fe-b3ba-6b95e06a296d\n",
      "INFO:loading:Updating coaches for match_id: 57aa4725-f43a-4f4c-a518-3ef0c303d05c\n",
      "INFO:loading:Updating party RR penalties for match_id: 0a575319-9640-4f2c-87d7-abde244e8440\n",
      "INFO:loading:Updating party RR penalties for match_id: 3e37baf4-856e-496c-9798-446e7ca4e573\n",
      "INFO:loading:Party RR penalties added to the session for match_id: f33a1b10-cef3-4a0f-aa9c-77b446445d8d\n",
      "INFO:loading:Premier match info added to the session for match_id: 4732a5ae-e238-46fe-b3ba-6b95e06a296d\n",
      "INFO:loading:Updating kills for match_id: 57aa4725-f43a-4f4c-a518-3ef0c303d05c\n",
      "INFO:loading:Party RR penalties added to the session for match_id: 0a575319-9640-4f2c-87d7-abde244e8440\n",
      "INFO:loading:Party RR penalties added to the session for match_id: 3e37baf4-856e-496c-9798-446e7ca4e573\n",
      "INFO:loading:Updating coaches for match_id: f33a1b10-cef3-4a0f-aa9c-77b446445d8d\n",
      "INFO:loading:Updating party RR penalties for match_id: 4732a5ae-e238-46fe-b3ba-6b95e06a296d\n",
      "INFO:loading:Updating coaches for match_id: 0a575319-9640-4f2c-87d7-abde244e8440\n",
      "INFO:loading:Updating coaches for match_id: 3e37baf4-856e-496c-9798-446e7ca4e573\n",
      "INFO:loading:Updating kills for match_id: f33a1b10-cef3-4a0f-aa9c-77b446445d8d\n",
      "INFO:loading:Party RR penalties added to the session for match_id: 4732a5ae-e238-46fe-b3ba-6b95e06a296d\n",
      "INFO:loading:Updating kills for match_id: 0a575319-9640-4f2c-87d7-abde244e8440\n",
      "INFO:loading:Updating kills for match_id: 3e37baf4-856e-496c-9798-446e7ca4e573\n",
      "INFO:loading:Updating coaches for match_id: 4732a5ae-e238-46fe-b3ba-6b95e06a296d\n",
      "INFO:loading:Updating kills for match_id: 4732a5ae-e238-46fe-b3ba-6b95e06a296d\n",
      "INFO:loading:Match data added to the session for match_id: ac72fbb2-dd75-4bb9-bf43-bc59c394cd2a\n",
      "INFO:loading:Updating premier match info for match_id: ac72fbb2-dd75-4bb9-bf43-bc59c394cd2a\n",
      "INFO:loading:Premier match info added to the session for match_id: ac72fbb2-dd75-4bb9-bf43-bc59c394cd2a\n",
      "INFO:loading:Updating party RR penalties for match_id: ac72fbb2-dd75-4bb9-bf43-bc59c394cd2a\n",
      "INFO:loading:Party RR penalties added to the session for match_id: ac72fbb2-dd75-4bb9-bf43-bc59c394cd2a\n",
      "INFO:loading:Updating coaches for match_id: ac72fbb2-dd75-4bb9-bf43-bc59c394cd2a\n",
      "INFO:loading:Updating kills for match_id: ac72fbb2-dd75-4bb9-bf43-bc59c394cd2a\n",
      "INFO:loading:Kills updated for match_id: 57aa4725-f43a-4f4c-a518-3ef0c303d05c\n",
      "INFO:loading:Updating Players for match_id: 57aa4725-f43a-4f4c-a518-3ef0c303d05c\n",
      "INFO:loading:Match data added to the session for match_id: 7d7d57b1-aa52-4843-bc9b-05c1e2ddeade\n",
      "INFO:loading:Updating premier match info for match_id: 7d7d57b1-aa52-4843-bc9b-05c1e2ddeade\n",
      "INFO:loading:Premier match info added to the session for match_id: 7d7d57b1-aa52-4843-bc9b-05c1e2ddeade\n",
      "INFO:loading:Match data added to the session for match_id: 8b4d4771-c678-4ce0-9212-73df0e41eddf\n",
      "INFO:loading:Updating party RR penalties for match_id: 7d7d57b1-aa52-4843-bc9b-05c1e2ddeade\n",
      "INFO:loading:Updating premier match info for match_id: 8b4d4771-c678-4ce0-9212-73df0e41eddf\n",
      "INFO:loading:Party RR penalties added to the session for match_id: 7d7d57b1-aa52-4843-bc9b-05c1e2ddeade\n",
      "INFO:loading:Kills updated for match_id: 3e37baf4-856e-496c-9798-446e7ca4e573\n",
      "INFO:loading:Premier match info added to the session for match_id: 8b4d4771-c678-4ce0-9212-73df0e41eddf\n",
      "INFO:loading:Players updated for match_id: 57aa4725-f43a-4f4c-a518-3ef0c303d05c\n",
      "INFO:loading:Updating coaches for match_id: 7d7d57b1-aa52-4843-bc9b-05c1e2ddeade\n",
      "INFO:loading:Updating Players for match_id: 3e37baf4-856e-496c-9798-446e7ca4e573\n",
      "INFO:loading:Updating party RR penalties for match_id: 8b4d4771-c678-4ce0-9212-73df0e41eddf\n",
      "INFO:loading:Committing round results for match_id: 57aa4725-f43a-4f4c-a518-3ef0c303d05c\n",
      "INFO:loading:Updating kills for match_id: 7d7d57b1-aa52-4843-bc9b-05c1e2ddeade\n",
      "INFO:loading:Party RR penalties added to the session for match_id: 8b4d4771-c678-4ce0-9212-73df0e41eddf\n",
      "INFO:loading:Kills updated for match_id: ac72fbb2-dd75-4bb9-bf43-bc59c394cd2a\n",
      "INFO:loading:Updating coaches for match_id: 8b4d4771-c678-4ce0-9212-73df0e41eddf\n",
      "INFO:loading:Updating Players for match_id: ac72fbb2-dd75-4bb9-bf43-bc59c394cd2a\n",
      "INFO:loading:Updating kills for match_id: 8b4d4771-c678-4ce0-9212-73df0e41eddf\n",
      "INFO:loading:Players updated for match_id: 3e37baf4-856e-496c-9798-446e7ca4e573\n",
      "INFO:loading:Committing round results for match_id: 3e37baf4-856e-496c-9798-446e7ca4e573\n",
      "INFO:loading:Players updated for match_id: ac72fbb2-dd75-4bb9-bf43-bc59c394cd2a\n",
      "INFO:loading:Committing round results for match_id: ac72fbb2-dd75-4bb9-bf43-bc59c394cd2a\n",
      "INFO:loading:Kills updated for match_id: 0a575319-9640-4f2c-87d7-abde244e8440\n",
      "INFO:loading:Updating Players for match_id: 0a575319-9640-4f2c-87d7-abde244e8440\n",
      "INFO:loading:Players updated for match_id: 0a575319-9640-4f2c-87d7-abde244e8440\n",
      "INFO:loading:Committing round results for match_id: 0a575319-9640-4f2c-87d7-abde244e8440\n",
      "INFO:loading:Round results committed for match_id: 57aa4725-f43a-4f4c-a518-3ef0c303d05c\n",
      "INFO:loading:Updating teams for match_id: 57aa4725-f43a-4f4c-a518-3ef0c303d05c\n",
      "INFO:loading:Teams updated for match_id: 57aa4725-f43a-4f4c-a518-3ef0c303d05c\n",
      "INFO:loading:Data successfully loaded into the database for match id- 57aa4725-f43a-4f4c-a518-3ef0c303d05c\n",
      "INFO:loading:Successfully deleted file: 67bb5b2c22f58af17b95118b.json\n",
      "INFO:loading:Updating matches with match_id: 10823c7e-eb14-487e-bfea-3eb786af1512\n",
      "INFO:loading:Match data added to the session for match_id: 10823c7e-eb14-487e-bfea-3eb786af1512\n",
      "INFO:loading:Updating premier match info for match_id: 10823c7e-eb14-487e-bfea-3eb786af1512\n",
      "INFO:loading:Premier match info added to the session for match_id: 10823c7e-eb14-487e-bfea-3eb786af1512\n",
      "INFO:loading:Updating party RR penalties for match_id: 10823c7e-eb14-487e-bfea-3eb786af1512\n",
      "INFO:loading:Party RR penalties added to the session for match_id: 10823c7e-eb14-487e-bfea-3eb786af1512\n",
      "INFO:loading:Kills updated for match_id: 7d7d57b1-aa52-4843-bc9b-05c1e2ddeade\n",
      "INFO:loading:Updating coaches for match_id: 10823c7e-eb14-487e-bfea-3eb786af1512\n",
      "INFO:loading:Updating Players for match_id: 7d7d57b1-aa52-4843-bc9b-05c1e2ddeade\n"
     ]
    },
    {
     "name": "stdout",
     "output_type": "stream",
     "text": [
      "Data successfully loaded into the database for match id- 57aa4725-f43a-4f4c-a518-3ef0c303d05c\n"
     ]
    },
    {
     "name": "stderr",
     "output_type": "stream",
     "text": [
      "INFO:loading:Kills updated for match_id: 4732a5ae-e238-46fe-b3ba-6b95e06a296d\n",
      "INFO:loading:Updating kills for match_id: 10823c7e-eb14-487e-bfea-3eb786af1512\n",
      "INFO:loading:Round results committed for match_id: 3e37baf4-856e-496c-9798-446e7ca4e573\n",
      "INFO:loading:Round results committed for match_id: ac72fbb2-dd75-4bb9-bf43-bc59c394cd2a\n",
      "INFO:loading:Updating Players for match_id: 4732a5ae-e238-46fe-b3ba-6b95e06a296d\n",
      "INFO:loading:Updating teams for match_id: 3e37baf4-856e-496c-9798-446e7ca4e573\n",
      "INFO:loading:Updating teams for match_id: ac72fbb2-dd75-4bb9-bf43-bc59c394cd2a\n",
      "INFO:loading:Kills updated for match_id: f33a1b10-cef3-4a0f-aa9c-77b446445d8d\n",
      "INFO:loading:Teams updated for match_id: 3e37baf4-856e-496c-9798-446e7ca4e573\n",
      "INFO:loading:Teams updated for match_id: ac72fbb2-dd75-4bb9-bf43-bc59c394cd2a\n",
      "INFO:loading:Updating Players for match_id: f33a1b10-cef3-4a0f-aa9c-77b446445d8d\n",
      "INFO:loading:Data successfully loaded into the database for match id- 3e37baf4-856e-496c-9798-446e7ca4e573\n",
      "INFO:loading:Data successfully loaded into the database for match id- ac72fbb2-dd75-4bb9-bf43-bc59c394cd2a\n",
      "INFO:loading:Successfully deleted file: 67bb5c8922f58af17b9532c9.json\n",
      "INFO:loading:Successfully deleted file: 67bcc65522f58af17bb80d1d.json\n",
      "INFO:loading:Players updated for match_id: 7d7d57b1-aa52-4843-bc9b-05c1e2ddeade\n",
      "INFO:loading:Updating matches with match_id: 47ee91ef-8180-4902-8315-8ebce6b57f68\n",
      "INFO:loading:Players updated for match_id: 4732a5ae-e238-46fe-b3ba-6b95e06a296d\n",
      "INFO:loading:Updating matches with match_id: 166353e7-9ddc-4284-a5df-a23a23ab23b0\n",
      "INFO:loading:Committing round results for match_id: 7d7d57b1-aa52-4843-bc9b-05c1e2ddeade\n",
      "INFO:loading:Match data added to the session for match_id: 47ee91ef-8180-4902-8315-8ebce6b57f68\n",
      "INFO:loading:Committing round results for match_id: 4732a5ae-e238-46fe-b3ba-6b95e06a296d\n"
     ]
    },
    {
     "name": "stdout",
     "output_type": "stream",
     "text": [
      "Data successfully loaded into the database for match id- 3e37baf4-856e-496c-9798-446e7ca4e573\n",
      "Data successfully loaded into the database for match id- ac72fbb2-dd75-4bb9-bf43-bc59c394cd2a\n"
     ]
    },
    {
     "name": "stderr",
     "output_type": "stream",
     "text": [
      "INFO:loading:Match data added to the session for match_id: 166353e7-9ddc-4284-a5df-a23a23ab23b0\n",
      "INFO:loading:Players updated for match_id: f33a1b10-cef3-4a0f-aa9c-77b446445d8d\n",
      "INFO:loading:Kills updated for match_id: 8b4d4771-c678-4ce0-9212-73df0e41eddf\n",
      "INFO:loading:Updating premier match info for match_id: 47ee91ef-8180-4902-8315-8ebce6b57f68\n",
      "INFO:loading:Updating premier match info for match_id: 166353e7-9ddc-4284-a5df-a23a23ab23b0\n",
      "INFO:loading:Committing round results for match_id: f33a1b10-cef3-4a0f-aa9c-77b446445d8d\n",
      "INFO:loading:Updating Players for match_id: 8b4d4771-c678-4ce0-9212-73df0e41eddf\n",
      "INFO:loading:Premier match info added to the session for match_id: 47ee91ef-8180-4902-8315-8ebce6b57f68\n",
      "INFO:loading:Premier match info added to the session for match_id: 166353e7-9ddc-4284-a5df-a23a23ab23b0\n",
      "INFO:loading:Round results committed for match_id: 0a575319-9640-4f2c-87d7-abde244e8440\n",
      "INFO:loading:Updating party RR penalties for match_id: 47ee91ef-8180-4902-8315-8ebce6b57f68\n",
      "INFO:loading:Updating party RR penalties for match_id: 166353e7-9ddc-4284-a5df-a23a23ab23b0\n",
      "INFO:loading:Updating teams for match_id: 0a575319-9640-4f2c-87d7-abde244e8440\n",
      "INFO:loading:Party RR penalties added to the session for match_id: 47ee91ef-8180-4902-8315-8ebce6b57f68\n",
      "INFO:loading:Party RR penalties added to the session for match_id: 166353e7-9ddc-4284-a5df-a23a23ab23b0\n",
      "INFO:loading:Teams updated for match_id: 0a575319-9640-4f2c-87d7-abde244e8440\n",
      "INFO:loading:Updating coaches for match_id: 47ee91ef-8180-4902-8315-8ebce6b57f68\n",
      "INFO:loading:Updating coaches for match_id: 166353e7-9ddc-4284-a5df-a23a23ab23b0\n",
      "INFO:loading:Data successfully loaded into the database for match id- 0a575319-9640-4f2c-87d7-abde244e8440\n",
      "INFO:loading:Updating kills for match_id: 47ee91ef-8180-4902-8315-8ebce6b57f68\n",
      "INFO:loading:Updating kills for match_id: 166353e7-9ddc-4284-a5df-a23a23ab23b0\n",
      "INFO:loading:Players updated for match_id: 8b4d4771-c678-4ce0-9212-73df0e41eddf\n",
      "INFO:loading:Successfully deleted file: 67bbac9822f58af17b9c4c95.json\n",
      "INFO:loading:Committing round results for match_id: 8b4d4771-c678-4ce0-9212-73df0e41eddf\n",
      "INFO:loading:Updating matches with match_id: f23ad0d8-4f5a-4596-af2c-b5682658de1e\n",
      "INFO:loading:Match data added to the session for match_id: f23ad0d8-4f5a-4596-af2c-b5682658de1e\n",
      "INFO:loading:Updating premier match info for match_id: f23ad0d8-4f5a-4596-af2c-b5682658de1e\n",
      "INFO:loading:Premier match info added to the session for match_id: f23ad0d8-4f5a-4596-af2c-b5682658de1e\n",
      "INFO:loading:Updating party RR penalties for match_id: f23ad0d8-4f5a-4596-af2c-b5682658de1e\n",
      "INFO:loading:Party RR penalties added to the session for match_id: f23ad0d8-4f5a-4596-af2c-b5682658de1e\n",
      "INFO:loading:Updating coaches for match_id: f23ad0d8-4f5a-4596-af2c-b5682658de1e\n"
     ]
    },
    {
     "name": "stdout",
     "output_type": "stream",
     "text": [
      "Data successfully loaded into the database for match id- 0a575319-9640-4f2c-87d7-abde244e8440\n"
     ]
    },
    {
     "name": "stderr",
     "output_type": "stream",
     "text": [
      "INFO:loading:Updating kills for match_id: f23ad0d8-4f5a-4596-af2c-b5682658de1e\n",
      "INFO:loading:Kills updated for match_id: f23ad0d8-4f5a-4596-af2c-b5682658de1e\n",
      "INFO:loading:Updating Players for match_id: f23ad0d8-4f5a-4596-af2c-b5682658de1e\n",
      "INFO:loading:Players updated for match_id: f23ad0d8-4f5a-4596-af2c-b5682658de1e\n",
      "INFO:loading:Committing round results for match_id: f23ad0d8-4f5a-4596-af2c-b5682658de1e\n",
      "INFO:loading:Kills updated for match_id: 10823c7e-eb14-487e-bfea-3eb786af1512\n",
      "INFO:loading:Updating Players for match_id: 10823c7e-eb14-487e-bfea-3eb786af1512\n",
      "INFO:loading:Players updated for match_id: 10823c7e-eb14-487e-bfea-3eb786af1512\n",
      "INFO:loading:Committing round results for match_id: 10823c7e-eb14-487e-bfea-3eb786af1512\n",
      "INFO:loading:Round results committed for match_id: 7d7d57b1-aa52-4843-bc9b-05c1e2ddeade\n",
      "INFO:loading:Updating teams for match_id: 7d7d57b1-aa52-4843-bc9b-05c1e2ddeade\n",
      "INFO:loading:Teams updated for match_id: 7d7d57b1-aa52-4843-bc9b-05c1e2ddeade\n",
      "INFO:loading:Data successfully loaded into the database for match id- 7d7d57b1-aa52-4843-bc9b-05c1e2ddeade\n",
      "INFO:loading:Successfully deleted file: 67bbc75122f58af17b9e5868.json\n"
     ]
    },
    {
     "name": "stdout",
     "output_type": "stream",
     "text": [
      "Data successfully loaded into the database for match id- 7d7d57b1-aa52-4843-bc9b-05c1e2ddeade\n"
     ]
    },
    {
     "name": "stderr",
     "output_type": "stream",
     "text": [
      "INFO:loading:Updating matches with match_id: b3c5cf0f-be66-4d59-910f-fd2d3a6fe957\n",
      "INFO:loading:Match data added to the session for match_id: b3c5cf0f-be66-4d59-910f-fd2d3a6fe957\n",
      "INFO:loading:Updating premier match info for match_id: b3c5cf0f-be66-4d59-910f-fd2d3a6fe957\n",
      "INFO:loading:Premier match info added to the session for match_id: b3c5cf0f-be66-4d59-910f-fd2d3a6fe957\n",
      "INFO:loading:Updating party RR penalties for match_id: b3c5cf0f-be66-4d59-910f-fd2d3a6fe957\n",
      "INFO:loading:Party RR penalties added to the session for match_id: b3c5cf0f-be66-4d59-910f-fd2d3a6fe957\n",
      "INFO:loading:Updating coaches for match_id: b3c5cf0f-be66-4d59-910f-fd2d3a6fe957\n",
      "INFO:loading:Updating kills for match_id: b3c5cf0f-be66-4d59-910f-fd2d3a6fe957\n",
      "INFO:loading:Kills updated for match_id: 166353e7-9ddc-4284-a5df-a23a23ab23b0\n",
      "INFO:loading:Updating Players for match_id: 166353e7-9ddc-4284-a5df-a23a23ab23b0\n",
      "INFO:loading:Kills updated for match_id: 47ee91ef-8180-4902-8315-8ebce6b57f68\n",
      "INFO:loading:Updating Players for match_id: 47ee91ef-8180-4902-8315-8ebce6b57f68\n",
      "INFO:loading:Players updated for match_id: 166353e7-9ddc-4284-a5df-a23a23ab23b0\n",
      "INFO:loading:Committing round results for match_id: 166353e7-9ddc-4284-a5df-a23a23ab23b0\n",
      "INFO:loading:Round results committed for match_id: f23ad0d8-4f5a-4596-af2c-b5682658de1e\n",
      "INFO:loading:Updating teams for match_id: f23ad0d8-4f5a-4596-af2c-b5682658de1e\n",
      "INFO:loading:Teams updated for match_id: f23ad0d8-4f5a-4596-af2c-b5682658de1e\n",
      "INFO:loading:Data successfully loaded into the database for match id- f23ad0d8-4f5a-4596-af2c-b5682658de1e\n",
      "INFO:loading:Players updated for match_id: 47ee91ef-8180-4902-8315-8ebce6b57f68\n",
      "INFO:loading:Successfully deleted file: 67be57a422f58af17bdce02c.json\n",
      "INFO:loading:Committing round results for match_id: 47ee91ef-8180-4902-8315-8ebce6b57f68\n",
      "INFO:loading:Updating matches with match_id: 0d9532b8-2cf7-4931-bc0a-7fa07e534af2\n",
      "INFO:loading:Round results committed for match_id: 4732a5ae-e238-46fe-b3ba-6b95e06a296d\n",
      "INFO:loading:Match data added to the session for match_id: 0d9532b8-2cf7-4931-bc0a-7fa07e534af2\n"
     ]
    },
    {
     "name": "stdout",
     "output_type": "stream",
     "text": [
      "Data successfully loaded into the database for match id- f23ad0d8-4f5a-4596-af2c-b5682658de1e\n"
     ]
    },
    {
     "name": "stderr",
     "output_type": "stream",
     "text": [
      "INFO:loading:Updating teams for match_id: 4732a5ae-e238-46fe-b3ba-6b95e06a296d\n",
      "INFO:loading:Updating premier match info for match_id: 0d9532b8-2cf7-4931-bc0a-7fa07e534af2\n",
      "INFO:loading:Teams updated for match_id: 4732a5ae-e238-46fe-b3ba-6b95e06a296d\n",
      "INFO:loading:Premier match info added to the session for match_id: 0d9532b8-2cf7-4931-bc0a-7fa07e534af2\n",
      "INFO:loading:Data successfully loaded into the database for match id- 4732a5ae-e238-46fe-b3ba-6b95e06a296d\n",
      "INFO:loading:Updating party RR penalties for match_id: 0d9532b8-2cf7-4931-bc0a-7fa07e534af2\n",
      "INFO:loading:Successfully deleted file: 67bbae6422f58af17b9c6e58.json\n",
      "INFO:loading:Party RR penalties added to the session for match_id: 0d9532b8-2cf7-4931-bc0a-7fa07e534af2\n",
      "INFO:loading:Updating matches with match_id: d9b4f7c0-667c-4728-afe5-40b323e2c2e2\n",
      "INFO:loading:Updating coaches for match_id: 0d9532b8-2cf7-4931-bc0a-7fa07e534af2\n",
      "INFO:loading:Match data added to the session for match_id: d9b4f7c0-667c-4728-afe5-40b323e2c2e2\n",
      "INFO:loading:Updating kills for match_id: 0d9532b8-2cf7-4931-bc0a-7fa07e534af2\n",
      "INFO:loading:Updating premier match info for match_id: d9b4f7c0-667c-4728-afe5-40b323e2c2e2\n",
      "INFO:loading:Premier match info added to the session for match_id: d9b4f7c0-667c-4728-afe5-40b323e2c2e2\n",
      "INFO:loading:Updating party RR penalties for match_id: d9b4f7c0-667c-4728-afe5-40b323e2c2e2\n"
     ]
    },
    {
     "name": "stdout",
     "output_type": "stream",
     "text": [
      "Data successfully loaded into the database for match id- 4732a5ae-e238-46fe-b3ba-6b95e06a296d\n"
     ]
    },
    {
     "name": "stderr",
     "output_type": "stream",
     "text": [
      "INFO:loading:Party RR penalties added to the session for match_id: d9b4f7c0-667c-4728-afe5-40b323e2c2e2\n",
      "INFO:loading:Updating coaches for match_id: d9b4f7c0-667c-4728-afe5-40b323e2c2e2\n",
      "INFO:loading:Updating kills for match_id: d9b4f7c0-667c-4728-afe5-40b323e2c2e2\n",
      "INFO:loading:Round results committed for match_id: f33a1b10-cef3-4a0f-aa9c-77b446445d8d\n",
      "INFO:loading:Round results committed for match_id: 8b4d4771-c678-4ce0-9212-73df0e41eddf\n",
      "INFO:loading:Updating teams for match_id: f33a1b10-cef3-4a0f-aa9c-77b446445d8d\n",
      "INFO:loading:Updating teams for match_id: 8b4d4771-c678-4ce0-9212-73df0e41eddf\n",
      "INFO:loading:Teams updated for match_id: f33a1b10-cef3-4a0f-aa9c-77b446445d8d\n",
      "INFO:loading:Teams updated for match_id: 8b4d4771-c678-4ce0-9212-73df0e41eddf\n",
      "INFO:loading:Data successfully loaded into the database for match id- f33a1b10-cef3-4a0f-aa9c-77b446445d8d\n",
      "INFO:loading:Data successfully loaded into the database for match id- 8b4d4771-c678-4ce0-9212-73df0e41eddf\n",
      "INFO:loading:Successfully deleted file: 67bac9ac22f58af17b85ef52.json\n",
      "INFO:loading:Successfully deleted file: 67bceb6122f58af17bbb4b50.json\n",
      "INFO:loading:Updating matches with match_id: 2a9a1198-61f2-40af-bb0f-a5c4033329c8\n",
      "INFO:loading:Updating matches with match_id: b29fb20d-ed7b-4fb6-9d84-351e344b4209\n",
      "INFO:loading:Match data added to the session for match_id: 2a9a1198-61f2-40af-bb0f-a5c4033329c8\n",
      "INFO:loading:Match data added to the session for match_id: b29fb20d-ed7b-4fb6-9d84-351e344b4209\n"
     ]
    },
    {
     "name": "stdout",
     "output_type": "stream",
     "text": [
      "Data successfully loaded into the database for match id- f33a1b10-cef3-4a0f-aa9c-77b446445d8d\n",
      "Data successfully loaded into the database for match id- 8b4d4771-c678-4ce0-9212-73df0e41eddf\n"
     ]
    },
    {
     "name": "stderr",
     "output_type": "stream",
     "text": [
      "INFO:loading:Updating premier match info for match_id: 2a9a1198-61f2-40af-bb0f-a5c4033329c8\n",
      "INFO:loading:Updating premier match info for match_id: b29fb20d-ed7b-4fb6-9d84-351e344b4209\n",
      "INFO:loading:Premier match info added to the session for match_id: 2a9a1198-61f2-40af-bb0f-a5c4033329c8\n",
      "INFO:loading:Premier match info added to the session for match_id: b29fb20d-ed7b-4fb6-9d84-351e344b4209\n",
      "INFO:loading:Updating party RR penalties for match_id: 2a9a1198-61f2-40af-bb0f-a5c4033329c8\n",
      "INFO:loading:Updating party RR penalties for match_id: b29fb20d-ed7b-4fb6-9d84-351e344b4209\n",
      "INFO:loading:Round results committed for match_id: 10823c7e-eb14-487e-bfea-3eb786af1512\n",
      "INFO:loading:Party RR penalties added to the session for match_id: 2a9a1198-61f2-40af-bb0f-a5c4033329c8\n",
      "INFO:loading:Party RR penalties added to the session for match_id: b29fb20d-ed7b-4fb6-9d84-351e344b4209\n",
      "INFO:loading:Updating teams for match_id: 10823c7e-eb14-487e-bfea-3eb786af1512\n",
      "INFO:loading:Updating coaches for match_id: 2a9a1198-61f2-40af-bb0f-a5c4033329c8\n",
      "INFO:loading:Updating coaches for match_id: b29fb20d-ed7b-4fb6-9d84-351e344b4209\n",
      "INFO:loading:Teams updated for match_id: 10823c7e-eb14-487e-bfea-3eb786af1512\n",
      "INFO:loading:Updating kills for match_id: 2a9a1198-61f2-40af-bb0f-a5c4033329c8\n",
      "INFO:loading:Updating kills for match_id: b29fb20d-ed7b-4fb6-9d84-351e344b4209\n",
      "INFO:loading:Data successfully loaded into the database for match id- 10823c7e-eb14-487e-bfea-3eb786af1512\n",
      "INFO:loading:Successfully deleted file: 67bd5a5522f58af17bc4a11a.json\n",
      "INFO:loading:Updating matches with match_id: e0bdf44a-64bf-455d-ac54-d12b4ef2b43a\n",
      "INFO:loading:Match data added to the session for match_id: e0bdf44a-64bf-455d-ac54-d12b4ef2b43a\n",
      "INFO:loading:Updating premier match info for match_id: e0bdf44a-64bf-455d-ac54-d12b4ef2b43a\n",
      "INFO:loading:Premier match info added to the session for match_id: e0bdf44a-64bf-455d-ac54-d12b4ef2b43a\n",
      "INFO:loading:Updating party RR penalties for match_id: e0bdf44a-64bf-455d-ac54-d12b4ef2b43a\n",
      "INFO:loading:Party RR penalties added to the session for match_id: e0bdf44a-64bf-455d-ac54-d12b4ef2b43a\n",
      "INFO:loading:Updating coaches for match_id: e0bdf44a-64bf-455d-ac54-d12b4ef2b43a\n",
      "INFO:loading:Updating kills for match_id: e0bdf44a-64bf-455d-ac54-d12b4ef2b43a\n"
     ]
    },
    {
     "name": "stdout",
     "output_type": "stream",
     "text": [
      "Data successfully loaded into the database for match id- 10823c7e-eb14-487e-bfea-3eb786af1512\n"
     ]
    },
    {
     "name": "stderr",
     "output_type": "stream",
     "text": [
      "INFO:loading:Kills updated for match_id: b29fb20d-ed7b-4fb6-9d84-351e344b4209\n",
      "INFO:loading:Updating Players for match_id: b29fb20d-ed7b-4fb6-9d84-351e344b4209\n",
      "INFO:loading:Players updated for match_id: b29fb20d-ed7b-4fb6-9d84-351e344b4209\n",
      "INFO:loading:Committing round results for match_id: b29fb20d-ed7b-4fb6-9d84-351e344b4209\n",
      "INFO:loading:Kills updated for match_id: d9b4f7c0-667c-4728-afe5-40b323e2c2e2\n",
      "INFO:loading:Updating Players for match_id: d9b4f7c0-667c-4728-afe5-40b323e2c2e2\n",
      "INFO:loading:Players updated for match_id: d9b4f7c0-667c-4728-afe5-40b323e2c2e2\n",
      "INFO:loading:Committing round results for match_id: d9b4f7c0-667c-4728-afe5-40b323e2c2e2\n",
      "INFO:loading:Kills updated for match_id: b3c5cf0f-be66-4d59-910f-fd2d3a6fe957\n",
      "INFO:loading:Updating Players for match_id: b3c5cf0f-be66-4d59-910f-fd2d3a6fe957\n",
      "INFO:loading:Kills updated for match_id: 0d9532b8-2cf7-4931-bc0a-7fa07e534af2\n",
      "INFO:loading:Updating Players for match_id: 0d9532b8-2cf7-4931-bc0a-7fa07e534af2\n",
      "INFO:loading:Round results committed for match_id: 166353e7-9ddc-4284-a5df-a23a23ab23b0\n",
      "INFO:loading:Updating teams for match_id: 166353e7-9ddc-4284-a5df-a23a23ab23b0\n",
      "INFO:loading:Teams updated for match_id: 166353e7-9ddc-4284-a5df-a23a23ab23b0\n",
      "INFO:loading:Data successfully loaded into the database for match id- 166353e7-9ddc-4284-a5df-a23a23ab23b0\n",
      "INFO:loading:Players updated for match_id: b3c5cf0f-be66-4d59-910f-fd2d3a6fe957\n",
      "INFO:loading:Successfully deleted file: 67be1a3322f58af17bd78c8c.json\n",
      "INFO:loading:Committing round results for match_id: b3c5cf0f-be66-4d59-910f-fd2d3a6fe957\n",
      "INFO:loading:Kills updated for match_id: 2a9a1198-61f2-40af-bb0f-a5c4033329c8\n"
     ]
    },
    {
     "name": "stdout",
     "output_type": "stream",
     "text": [
      "Data successfully loaded into the database for match id- 166353e7-9ddc-4284-a5df-a23a23ab23b0\n"
     ]
    },
    {
     "name": "stderr",
     "output_type": "stream",
     "text": [
      "INFO:loading:Updating matches with match_id: 149b7d0c-3106-4b84-aa1b-2d52b8e58490\n",
      "INFO:loading:Updating Players for match_id: 2a9a1198-61f2-40af-bb0f-a5c4033329c8\n",
      "INFO:loading:Match data added to the session for match_id: 149b7d0c-3106-4b84-aa1b-2d52b8e58490\n",
      "INFO:loading:Players updated for match_id: 0d9532b8-2cf7-4931-bc0a-7fa07e534af2\n",
      "INFO:loading:Updating premier match info for match_id: 149b7d0c-3106-4b84-aa1b-2d52b8e58490\n",
      "INFO:loading:Committing round results for match_id: 0d9532b8-2cf7-4931-bc0a-7fa07e534af2\n",
      "INFO:loading:Premier match info added to the session for match_id: 149b7d0c-3106-4b84-aa1b-2d52b8e58490\n",
      "INFO:loading:Updating party RR penalties for match_id: 149b7d0c-3106-4b84-aa1b-2d52b8e58490\n",
      "INFO:loading:Party RR penalties added to the session for match_id: 149b7d0c-3106-4b84-aa1b-2d52b8e58490\n",
      "INFO:loading:Updating coaches for match_id: 149b7d0c-3106-4b84-aa1b-2d52b8e58490\n",
      "INFO:loading:Updating kills for match_id: 149b7d0c-3106-4b84-aa1b-2d52b8e58490\n",
      "INFO:loading:Players updated for match_id: 2a9a1198-61f2-40af-bb0f-a5c4033329c8\n",
      "INFO:loading:Committing round results for match_id: 2a9a1198-61f2-40af-bb0f-a5c4033329c8\n",
      "INFO:loading:Round results committed for match_id: 47ee91ef-8180-4902-8315-8ebce6b57f68\n",
      "INFO:loading:Updating teams for match_id: 47ee91ef-8180-4902-8315-8ebce6b57f68\n",
      "INFO:loading:Teams updated for match_id: 47ee91ef-8180-4902-8315-8ebce6b57f68\n",
      "INFO:loading:Data successfully loaded into the database for match id- 47ee91ef-8180-4902-8315-8ebce6b57f68\n",
      "INFO:loading:Successfully deleted file: 67bd718322f58af17bc69e78.json\n",
      "INFO:loading:Round results committed for match_id: b29fb20d-ed7b-4fb6-9d84-351e344b4209\n",
      "INFO:loading:Updating teams for match_id: b29fb20d-ed7b-4fb6-9d84-351e344b4209\n",
      "INFO:loading:Kills updated for match_id: e0bdf44a-64bf-455d-ac54-d12b4ef2b43a\n",
      "INFO:loading:Teams updated for match_id: b29fb20d-ed7b-4fb6-9d84-351e344b4209\n",
      "INFO:loading:Updating Players for match_id: e0bdf44a-64bf-455d-ac54-d12b4ef2b43a\n",
      "INFO:loading:Data successfully loaded into the database for match id- b29fb20d-ed7b-4fb6-9d84-351e344b4209\n",
      "INFO:loading:Successfully deleted file: 67c0398d22f58af17b088b0a.json\n"
     ]
    },
    {
     "name": "stdout",
     "output_type": "stream",
     "text": [
      "Data successfully loaded into the database for match id- 47ee91ef-8180-4902-8315-8ebce6b57f68\n",
      "Data successfully loaded into the database for match id- b29fb20d-ed7b-4fb6-9d84-351e344b4209\n"
     ]
    },
    {
     "name": "stderr",
     "output_type": "stream",
     "text": [
      "INFO:loading:Kills updated for match_id: 149b7d0c-3106-4b84-aa1b-2d52b8e58490\n",
      "INFO:loading:Players updated for match_id: e0bdf44a-64bf-455d-ac54-d12b4ef2b43a\n",
      "INFO:loading:Updating Players for match_id: 149b7d0c-3106-4b84-aa1b-2d52b8e58490\n",
      "INFO:loading:Committing round results for match_id: e0bdf44a-64bf-455d-ac54-d12b4ef2b43a\n",
      "INFO:loading:Players updated for match_id: 149b7d0c-3106-4b84-aa1b-2d52b8e58490\n",
      "INFO:loading:Committing round results for match_id: 149b7d0c-3106-4b84-aa1b-2d52b8e58490\n",
      "INFO:loading:Round results committed for match_id: d9b4f7c0-667c-4728-afe5-40b323e2c2e2\n",
      "INFO:loading:Updating teams for match_id: d9b4f7c0-667c-4728-afe5-40b323e2c2e2\n",
      "INFO:loading:Teams updated for match_id: d9b4f7c0-667c-4728-afe5-40b323e2c2e2\n",
      "INFO:loading:Data successfully loaded into the database for match id- d9b4f7c0-667c-4728-afe5-40b323e2c2e2\n",
      "INFO:loading:Successfully deleted file: 67bf9bee22f58af17bfb1d0f.json\n"
     ]
    },
    {
     "name": "stdout",
     "output_type": "stream",
     "text": [
      "Data successfully loaded into the database for match id- d9b4f7c0-667c-4728-afe5-40b323e2c2e2\n"
     ]
    },
    {
     "name": "stderr",
     "output_type": "stream",
     "text": [
      "INFO:loading:Round results committed for match_id: 2a9a1198-61f2-40af-bb0f-a5c4033329c8\n",
      "INFO:loading:Updating teams for match_id: 2a9a1198-61f2-40af-bb0f-a5c4033329c8\n",
      "INFO:loading:Teams updated for match_id: 2a9a1198-61f2-40af-bb0f-a5c4033329c8\n",
      "INFO:loading:Data successfully loaded into the database for match id- 2a9a1198-61f2-40af-bb0f-a5c4033329c8\n",
      "INFO:loading:Successfully deleted file: 67c026a522f58af17b06e103.json\n",
      "INFO:loading:Round results committed for match_id: 149b7d0c-3106-4b84-aa1b-2d52b8e58490\n",
      "INFO:loading:Updating teams for match_id: 149b7d0c-3106-4b84-aa1b-2d52b8e58490\n"
     ]
    },
    {
     "name": "stdout",
     "output_type": "stream",
     "text": [
      "Data successfully loaded into the database for match id- 2a9a1198-61f2-40af-bb0f-a5c4033329c8\n"
     ]
    },
    {
     "name": "stderr",
     "output_type": "stream",
     "text": [
      "INFO:loading:Teams updated for match_id: 149b7d0c-3106-4b84-aa1b-2d52b8e58490\n",
      "INFO:loading:Data successfully loaded into the database for match id- 149b7d0c-3106-4b84-aa1b-2d52b8e58490\n",
      "INFO:loading:Successfully deleted file: 67c0b09e22f58af17b14986a.json\n",
      "INFO:loading:Round results committed for match_id: 0d9532b8-2cf7-4931-bc0a-7fa07e534af2\n",
      "INFO:loading:Updating teams for match_id: 0d9532b8-2cf7-4931-bc0a-7fa07e534af2\n",
      "INFO:loading:Teams updated for match_id: 0d9532b8-2cf7-4931-bc0a-7fa07e534af2\n",
      "INFO:loading:Data successfully loaded into the database for match id- 0d9532b8-2cf7-4931-bc0a-7fa07e534af2\n",
      "INFO:loading:Successfully deleted file: 67bec01122f58af17be5b8c2.json\n"
     ]
    },
    {
     "name": "stdout",
     "output_type": "stream",
     "text": [
      "Data successfully loaded into the database for match id- 149b7d0c-3106-4b84-aa1b-2d52b8e58490\n",
      "Data successfully loaded into the database for match id- 0d9532b8-2cf7-4931-bc0a-7fa07e534af2\n"
     ]
    },
    {
     "name": "stderr",
     "output_type": "stream",
     "text": [
      "INFO:loading:Round results committed for match_id: e0bdf44a-64bf-455d-ac54-d12b4ef2b43a\n",
      "INFO:loading:Updating teams for match_id: e0bdf44a-64bf-455d-ac54-d12b4ef2b43a\n",
      "INFO:loading:Teams updated for match_id: e0bdf44a-64bf-455d-ac54-d12b4ef2b43a\n",
      "INFO:loading:Data successfully loaded into the database for match id- e0bdf44a-64bf-455d-ac54-d12b4ef2b43a\n",
      "INFO:loading:Successfully deleted file: 67c09dd422f58af17b12d8b5.json\n",
      "INFO:loading:Round results committed for match_id: b3c5cf0f-be66-4d59-910f-fd2d3a6fe957\n",
      "INFO:loading:Updating teams for match_id: b3c5cf0f-be66-4d59-910f-fd2d3a6fe957\n",
      "INFO:loading:Teams updated for match_id: b3c5cf0f-be66-4d59-910f-fd2d3a6fe957\n",
      "INFO:loading:Data successfully loaded into the database for match id- b3c5cf0f-be66-4d59-910f-fd2d3a6fe957\n",
      "INFO:loading:Successfully deleted file: 67bea82f22f58af17be393e6.json\n"
     ]
    },
    {
     "name": "stdout",
     "output_type": "stream",
     "text": [
      "Data successfully loaded into the database for match id- e0bdf44a-64bf-455d-ac54-d12b4ef2b43a\n",
      "Data successfully loaded into the database for match id- b3c5cf0f-be66-4d59-910f-fd2d3a6fe957\n",
      "19 0\n"
     ]
    }
   ],
   "source": [
    "\n",
    "\n",
    "def process_file(file):\n",
    "    \"\"\"\n",
    "    Processes a single file by validating its data against the ValorantMatchAPIModel\n",
    "    and loading it into the database. If successful, deletes the file.\n",
    "\n",
    "    Args:\n",
    "        file (str): The name of the file to be processed.\n",
    "\n",
    "    Returns:\n",
    "        tuple: A tuple containing a boolean indicating success or failure, and the file name.\n",
    "    \"\"\"\n",
    "    with open(f\"New folder/{file}\", encoding='utf-8') as f:\n",
    "        d = json.load(f)\n",
    "    \n",
    "    success_flag = 0\n",
    "    try:\n",
    "        # valorant_pydantic_object = ValorantMatchAPIModel.model_validate(d)\n",
    "        success_flag = load_valorant_data_to_database(Session=Session, \n",
    "                                                      json_data=d,\n",
    "                                                      file_name= file)\n",
    "    except Exception as e:\n",
    "        logger.error(f\"Data validation failed: {e}\")\n",
    "        return False, file\n",
    "    \n",
    "    if success_flag == 1:\n",
    "        try:\n",
    "            os.remove(f\"New folder/{file}\")\n",
    "            logger.info(f\"Successfully deleted file: {file}\")\n",
    "            return True, file\n",
    "        except Exception as e:\n",
    "            logger.error(f\"Failed to delete file: {file}. Error: {e}\")\n",
    "            return False, file\n",
    "    return False, file\n",
    "\n",
    "\n",
    "\n",
    "with concurrent.futures.ThreadPoolExecutor(max_workers=8) as executor:\n",
    "    results = list(executor.map(process_file, files_in_directory))\n",
    "    for success, file in results:\n",
    "        progress_bar.value += 1\n",
    "        if success:\n",
    "            passed += 1\n",
    "        else:\n",
    "            failed += 1\n",
    "\n",
    "print(passed, failed)\n",
    "\n",
    "# for i in range(0,5000):\n",
    "\n"
   ]
  },
  {
   "cell_type": "code",
   "execution_count": 8,
   "metadata": {},
   "outputs": [
    {
     "name": "stdout",
     "output_type": "stream",
     "text": [
      "New folder/67c0b09e22f58af17b14986a.json selected\n"
     ]
    }
   ],
   "source": [
    "random_file_number = np.random.randint(low=0, high=len(files_in_directory))\n",
    "random_file_number= 18\n",
    "print(f\"New folder/{files_in_directory[random_file_number]} selected\")\n",
    "\n",
    "with open(f\"New folder/{files_in_directory[random_file_number]}\", encoding='utf-8') as f:\n",
    "    d = json.load(f)\n",
    "# dict_keys(['_id', 'matchInfo', 'coaches', 'kills', 'players', 'region', 'roundResults', 'teams'])\n"
   ]
  },
  {
   "cell_type": "code",
   "execution_count": 35,
   "metadata": {},
   "outputs": [
    {
     "data": {
      "text/plain": [
       "BehaviorFactors(afkRounds=0.0, collisions=0.014800617471337318, commsRatingRecovery=0, damageParticipationOutgoing=0, friendlyFireIncoming=0.0, friendlyFireOutgoing=0.0, mouseMovement=0, selfDamage=0.0, stayedInSpawnRounds=0.0)"
      ]
     },
     "execution_count": 35,
     "metadata": {},
     "output_type": "execute_result"
    }
   ],
   "source": [
    "\n",
    "val_obj= ValorantMatchAPIModel.model_validate(d)\n",
    "val_obj.players[0].behaviorFactors\n",
    "\n"
   ]
  },
  {
   "cell_type": "code",
   "execution_count": 23,
   "metadata": {},
   "outputs": [
    {
     "data": {
      "text/plain": [
       "'None'"
      ]
     },
     "execution_count": 23,
     "metadata": {},
     "output_type": "execute_result"
    }
   ],
   "source": [
    "ac= val_obj.kills[92].finishingDamage.damageType\n",
    "str(ac)\n",
    "\n",
    "# match_grenade_casts= ac.getability1Casts if ac.ability1Casts is not None else 0\n",
    "# match_grenade_casts"
   ]
  },
  {
   "cell_type": "code",
   "execution_count": 23,
   "metadata": {},
   "outputs": [
    {
     "data": {
      "text/plain": [
       "{'subject': '540529e4-c328-5d09-b28d-28e647a13253',\n",
       " 'gameName': 'garoin',\n",
       " 'tagLine': '666',\n",
       " 'platformInfo': {'platformType': 'pc',\n",
       "  'platformOS': 'Windows',\n",
       "  'platformOSVersion': '10.0.26100.1.256.64bit',\n",
       "  'platformChipset': 'Unknown',\n",
       "  'platformDevice': ''},\n",
       " 'teamId': 'Red',\n",
       " 'partyId': '372bf57a-a84e-4a80-af7d-b27ad93d8c55',\n",
       " 'characterId': 'a3bfb853-43b2-7238-a4f1-ad90e9e46bcc',\n",
       " 'stats': {'score': 0,\n",
       "  'roundsPlayed': 7,\n",
       "  'kills': 0,\n",
       "  'deaths': 0,\n",
       "  'assists': 0,\n",
       "  'playtimeMillis': 723153,\n",
       "  'abilityCasts': None},\n",
       " 'roundDamage': None,\n",
       " 'competitiveTier': 9,\n",
       " 'isObserver': False,\n",
       " 'playerCard': '8c56656f-43bc-3abf-5b96-52baada40581',\n",
       " 'playerTitle': '6b4e1d0c-410e-878b-f151-9b8a8abc83a3',\n",
       " 'preferredLevelBorder': 'e6238102-425c-a647-6685-e6af7f8982d9',\n",
       " 'accountLevel': 76,\n",
       " 'sessionPlaytimeMinutes': 46,\n",
       " 'xpModifications': None,\n",
       " 'behaviorFactors': None,\n",
       " 'newPlayerExperienceDetails': {'basicMovement': {'idleTimeMillis': 0,\n",
       "   'objectiveCompleteTimeMillis': 0},\n",
       "  'basicGunSkill': {'idleTimeMillis': 0, 'objectiveCompleteTimeMillis': 0},\n",
       "  'adaptiveBots': {'idleTimeMillis': 0,\n",
       "   'objectiveCompleteTimeMillis': 0,\n",
       "   'adaptiveBotAverageDurationMillisAllAttempts': 0,\n",
       "   'adaptiveBotAverageDurationMillisFirstAttempt': 0,\n",
       "   'killDetailsFirstAttempt': None},\n",
       "  'ability': {'idleTimeMillis': 0, 'objectiveCompleteTimeMillis': 0},\n",
       "  'bombPlant': {'idleTimeMillis': 0, 'objectiveCompleteTimeMillis': 0},\n",
       "  'defendBombSite': {'idleTimeMillis': 0,\n",
       "   'objectiveCompleteTimeMillis': 0,\n",
       "   'success': False},\n",
       "  'settingStatus': {'isMouseSensitivityDefault': False,\n",
       "   'isCrosshairDefault': False},\n",
       "  'versionString': ''}}"
      ]
     },
     "execution_count": 23,
     "metadata": {},
     "output_type": "execute_result"
    }
   ],
   "source": [
    "d[\"players\"][6]"
   ]
  },
  {
   "cell_type": "code",
   "execution_count": 21,
   "metadata": {},
   "outputs": [
    {
     "name": "stdout",
     "output_type": "stream",
     "text": [
      "ModelWithDefault:\n",
      "my_field='NA'\n",
      "my_field=None\n",
      "my_field='Some Value'\n",
      "\n",
      "ModelWithDefaultFactory:\n",
      "my_field='NA'\n",
      "my_field=None\n",
      "my_field='Some Value'\n",
      "\n",
      "ModelWithValidator:\n"
     ]
    },
    {
     "ename": "ValidationError",
     "evalue": "1 validation error for ModelWithValidator\nmy_field\n  Field required [type=missing, input_value={}, input_type=dict]\n    For further information visit https://errors.pydantic.dev/2.10/v/missing",
     "output_type": "error",
     "traceback": [
      "\u001b[31m---------------------------------------------------------------------------\u001b[39m",
      "\u001b[31mValidationError\u001b[39m                           Traceback (most recent call last)",
      "\u001b[36mCell\u001b[39m\u001b[36m \u001b[39m\u001b[32mIn[21]\u001b[39m\u001b[32m, line 42\u001b[39m\n\u001b[32m     39\u001b[39m \u001b[38;5;28mprint\u001b[39m(ModelWithDefaultFactory(my_field=\u001b[33m\"\u001b[39m\u001b[33mSome Value\u001b[39m\u001b[33m\"\u001b[39m))\n\u001b[32m     41\u001b[39m \u001b[38;5;28mprint\u001b[39m(\u001b[33m\"\u001b[39m\u001b[38;5;130;01m\\n\u001b[39;00m\u001b[33mModelWithValidator:\u001b[39m\u001b[33m\"\u001b[39m)\n\u001b[32m---> \u001b[39m\u001b[32m42\u001b[39m \u001b[38;5;28mprint\u001b[39m(\u001b[43mModelWithValidator\u001b[49m\u001b[43m(\u001b[49m\u001b[43m)\u001b[49m)\n\u001b[32m     43\u001b[39m \u001b[38;5;28mprint\u001b[39m(ModelWithValidator(my_field=\u001b[38;5;28;01mNone\u001b[39;00m))\n\u001b[32m     44\u001b[39m \u001b[38;5;28mprint\u001b[39m(ModelWithValidator(my_field=\u001b[33m\"\u001b[39m\u001b[33mSome Value\u001b[39m\u001b[33m\"\u001b[39m))\n",
      "\u001b[36mFile \u001b[39m\u001b[32mc:\\Users\\53344\\Downloads\\Cases\\Mojo\\mojo\\Lib\\site-packages\\pydantic\\main.py:214\u001b[39m, in \u001b[36mBaseModel.__init__\u001b[39m\u001b[34m(self, **data)\u001b[39m\n\u001b[32m    212\u001b[39m \u001b[38;5;66;03m# `__tracebackhide__` tells pytest and some other tools to omit this function from tracebacks\u001b[39;00m\n\u001b[32m    213\u001b[39m __tracebackhide__ = \u001b[38;5;28;01mTrue\u001b[39;00m\n\u001b[32m--> \u001b[39m\u001b[32m214\u001b[39m validated_self = \u001b[38;5;28;43mself\u001b[39;49m\u001b[43m.\u001b[49m\u001b[43m__pydantic_validator__\u001b[49m\u001b[43m.\u001b[49m\u001b[43mvalidate_python\u001b[49m\u001b[43m(\u001b[49m\u001b[43mdata\u001b[49m\u001b[43m,\u001b[49m\u001b[43m \u001b[49m\u001b[43mself_instance\u001b[49m\u001b[43m=\u001b[49m\u001b[38;5;28;43mself\u001b[39;49m\u001b[43m)\u001b[49m\n\u001b[32m    215\u001b[39m \u001b[38;5;28;01mif\u001b[39;00m \u001b[38;5;28mself\u001b[39m \u001b[38;5;129;01mis\u001b[39;00m \u001b[38;5;129;01mnot\u001b[39;00m validated_self:\n\u001b[32m    216\u001b[39m     warnings.warn(\n\u001b[32m    217\u001b[39m         \u001b[33m'\u001b[39m\u001b[33mA custom validator is returning a value other than `self`.\u001b[39m\u001b[38;5;130;01m\\n\u001b[39;00m\u001b[33m'\u001b[39m\n\u001b[32m    218\u001b[39m         \u001b[33m\"\u001b[39m\u001b[33mReturning anything other than `self` from a top level model validator isn\u001b[39m\u001b[33m'\u001b[39m\u001b[33mt supported when validating via `__init__`.\u001b[39m\u001b[38;5;130;01m\\n\u001b[39;00m\u001b[33m\"\u001b[39m\n\u001b[32m    219\u001b[39m         \u001b[33m'\u001b[39m\u001b[33mSee the `model_validator` docs (https://docs.pydantic.dev/latest/concepts/validators/#model-validators) for more details.\u001b[39m\u001b[33m'\u001b[39m,\n\u001b[32m    220\u001b[39m         stacklevel=\u001b[32m2\u001b[39m,\n\u001b[32m    221\u001b[39m     )\n",
      "\u001b[31mValidationError\u001b[39m: 1 validation error for ModelWithValidator\nmy_field\n  Field required [type=missing, input_value={}, input_type=dict]\n    For further information visit https://errors.pydantic.dev/2.10/v/missing"
     ]
    }
   ],
   "source": [
    "from typing import Optional, Union\n",
    "from pydantic import BaseModel, Field, field_validator\n",
    "\n",
    "# Approach 1: Field(default='NA')\n",
    "class ModelWithDefault(BaseModel):\n",
    "    my_field: Optional[str] = Field(default='NA')\n",
    "\n",
    "    def __post_init__(self):\n",
    "        if self.my_field is None:\n",
    "            self.my_field = 'NA'\n",
    "\n",
    "# Approach 2: Field(default_factory=...)\n",
    "def get_na():\n",
    "    return 'NA'\n",
    "\n",
    "class ModelWithDefaultFactory(BaseModel):\n",
    "    my_field: Optional[str] = Field(default_factory=get_na)\n",
    "\n",
    "# Approach 3: Validator (Not Recommended for Simple Defaults)\n",
    "class ModelWithValidator(BaseModel):\n",
    "    my_field: Optional[str]\n",
    "\n",
    "    @field_validator('my_field')\n",
    "    def set_default(cls, value):\n",
    "        if value is None:\n",
    "            return 'NA'\n",
    "        return value\n",
    "\n",
    "\n",
    "# Test Cases\n",
    "print(\"ModelWithDefault:\")\n",
    "print(ModelWithDefault())\n",
    "print(ModelWithDefault(my_field=None))\n",
    "print(ModelWithDefault(my_field=\"Some Value\"))\n",
    "\n",
    "print(\"\\nModelWithDefaultFactory:\")\n",
    "print(ModelWithDefaultFactory())\n",
    "print(ModelWithDefaultFactory(my_field=None))\n",
    "print(ModelWithDefaultFactory(my_field=\"Some Value\"))\n",
    "\n",
    "print(\"\\nModelWithValidator:\")\n",
    "print(ModelWithValidator())\n",
    "print(ModelWithValidator(my_field=None))\n",
    "print(ModelWithValidator(my_field=\"Some Value\"))"
   ]
  },
  {
   "cell_type": "code",
   "execution_count": 20,
   "metadata": {},
   "outputs": [
    {
     "name": "stderr",
     "output_type": "stream",
     "text": [
      "INFO:loading:Updating matches with match_id: 52919735-c696-46f8-be1d-842286db0ce9\n",
      "INFO:loading:Match data added to the session for match_id: 52919735-c696-46f8-be1d-842286db0ce9\n",
      "INFO:loading:Updating premier match info for match_id: 52919735-c696-46f8-be1d-842286db0ce9\n",
      "INFO:loading:Premier match info added to the session for match_id: 52919735-c696-46f8-be1d-842286db0ce9\n",
      "INFO:loading:Updating party RR penalties for match_id: 52919735-c696-46f8-be1d-842286db0ce9\n",
      "INFO:loading:Party RR penalties added to the session for match_id: 52919735-c696-46f8-be1d-842286db0ce9\n",
      "INFO:loading:Updating coaches for match_id: 52919735-c696-46f8-be1d-842286db0ce9\n",
      "INFO:loading:Updating kills for match_id: 52919735-c696-46f8-be1d-842286db0ce9\n"
     ]
    },
    {
     "name": "stdout",
     "output_type": "stream",
     "text": [
      "!\n",
      "s\n"
     ]
    },
    {
     "name": "stderr",
     "output_type": "stream",
     "text": [
      "INFO:loading:Kills updated for match_id: 52919735-c696-46f8-be1d-842286db0ce9\n",
      "INFO:loading:Updating Players for match_id: 52919735-c696-46f8-be1d-842286db0ce9\n",
      "INFO:loading:Players updated for match_id: 52919735-c696-46f8-be1d-842286db0ce9\n",
      "INFO:loading:Committing round results for match_id: 52919735-c696-46f8-be1d-842286db0ce9\n"
     ]
    },
    {
     "name": "stdout",
     "output_type": "stream",
     "text": [
      "a\n",
      "b\n"
     ]
    },
    {
     "name": "stderr",
     "output_type": "stream",
     "text": [
      "INFO:loading:Round results committed for match_id: 52919735-c696-46f8-be1d-842286db0ce9\n",
      "INFO:loading:Updating teams for match_id: 52919735-c696-46f8-be1d-842286db0ce9\n",
      "INFO:loading:Teams updated for match_id: 52919735-c696-46f8-be1d-842286db0ce9\n",
      "INFO:loading:Data successfully loaded into the database.\n"
     ]
    },
    {
     "name": "stdout",
     "output_type": "stream",
     "text": [
      "Success flag 1\n"
     ]
    }
   ],
   "source": [
    "\n",
    "success_flag=0\n",
    "try:\n",
    "    success_flag= load_valorant_data_to_database(Session=Session, validated_data=val_obj)\n",
    "except Exception as e:\n",
    "    logger.error(f\"Data validation failed: {e}\")\n",
    "finally:\n",
    "    # session.close()\n",
    "    print(\"Success flag\", success_flag)"
   ]
  },
  {
   "cell_type": "code",
   "execution_count": 21,
   "metadata": {},
   "outputs": [],
   "source": [
    "os.remove(\"New folder/67be8e9422f58af17be174da.json\")"
   ]
  },
  {
   "cell_type": "code",
   "execution_count": 9,
   "metadata": {},
   "outputs": [
    {
     "data": {
      "text/plain": [
       "[roundKill(gameTime=343367, roundTime=59014, killer='e67d3ca9-f1a0-537c-a4d2-f149a5a9ab41', victim='5e49bfd3-ab22-50da-82af-b41451a138ab', victimLocation=Location(x=8981, y=5408), assistants=[], playerLocations=[DetailedPlayerLocation(subject='e67d3ca9-f1a0-537c-a4d2-f149a5a9ab41', viewRadians=0.26144880056381226, location=Location(x=7049, y=4896)), DetailedPlayerLocation(subject='a17baa54-3809-5263-895e-680c385aff7a', viewRadians=2.286595582962036, location=Location(x=9532, y=4319)), DetailedPlayerLocation(subject='df913f23-7b8a-5ea3-967a-dc8415905dad', viewRadians=5.129822254180908, location=Location(x=6501, y=2819)), DetailedPlayerLocation(subject='47a470a3-2bb8-554b-8a91-59fb2e6a619c', viewRadians=0.4690192937850952, location=Location(x=6638, y=4290)), DetailedPlayerLocation(subject='d69cb2b9-4313-5a8b-b247-1ec73034cfdf', viewRadians=5.701709747314453, location=Location(x=7667, y=4178))], finishingDamage=FinishingDamage(damageType='Weapon', damageItem='9c82e19d-4575-0200-1a81-3eacf00cf872', isSecondaryFireMode=False))]"
      ]
     },
     "execution_count": 9,
     "metadata": {},
     "output_type": "execute_result"
    }
   ],
   "source": [
    "# print(val_obj.kills[1].killer, val_obj.kills[1].playerLocations, val_obj.kills[1].victimLocation, )\n",
    "\n",
    "val_obj.roundResults[2].playerStats[0].kills\n",
    "\n",
    "# round_no=8\n",
    "# print(val_obj.roundResults[round_no].playerStats[0].subject,val_obj.roundResults[round_no].playerStats[0].score, val_obj.roundResults[round_no].playerScores[3])\n",
    "# val_obj.\n",
    "\n",
    "#subject- f6ba21e3-d7e8-50c8-82f4-e56537f1f283\n",
    "\n",
    "# val_obj.roundResults[5].playerStats[6].damage\n",
    "\n",
    "# val_obj.roundResults[6].playerStats[6].damage\n",
    "\n",
    "# round_no= 13\n",
    "# print(val_obj.roundResults[round_no].plantLocation)\n",
    "# print(val_obj.roundResults[round_no].defuseLocation)\n",
    "# print(val_obj.roundResults[round_no].defusePlayerLocations)\n",
    "\n",
    "# val_obj."
   ]
  },
  {
   "cell_type": "code",
   "execution_count": 176,
   "metadata": {},
   "outputs": [
    {
     "ename": "AttributeError",
     "evalue": "module 'math' has no attribute 'arctan'",
     "output_type": "error",
     "traceback": [
      "\u001b[31m---------------------------------------------------------------------------\u001b[39m",
      "\u001b[31mAttributeError\u001b[39m                            Traceback (most recent call last)",
      "\u001b[36mCell\u001b[39m\u001b[36m \u001b[39m\u001b[32mIn[176]\u001b[39m\u001b[32m, line 10\u001b[39m\n\u001b[32m      8\u001b[39m y_coordinate = val_obj.kills[kill_no].victimLocation.y\n\u001b[32m      9\u001b[39m filtered_locations = [location \u001b[38;5;28;01mfor\u001b[39;00m location \u001b[38;5;129;01min\u001b[39;00m val_obj.kills[kill_no].playerLocations \u001b[38;5;28;01mif\u001b[39;00m location.subject == val_obj.kills[kill_no].killer]\n\u001b[32m---> \u001b[39m\u001b[32m10\u001b[39m angle = \u001b[43mmath\u001b[49m\u001b[43m.\u001b[49m\u001b[43marctan\u001b[49m(y_coordinate- filtered_locations[\u001b[32m0\u001b[39m].location.y,x_coordinate- filtered_locations[\u001b[32m0\u001b[39m].location.x )\n\u001b[32m     11\u001b[39m \u001b[38;5;28mprint\u001b[39m(\u001b[33mf\u001b[39m\u001b[33m\"\u001b[39m\u001b[33mThe angle is \u001b[39m\u001b[38;5;132;01m{\u001b[39;00mangle\u001b[38;5;132;01m}\u001b[39;00m\u001b[33m radians vs view radian of \u001b[39m\u001b[38;5;132;01m{\u001b[39;00mfiltered_locations[\u001b[32m0\u001b[39m].viewRadians\u001b[38;5;132;01m}\u001b[39;00m\u001b[33m\"\u001b[39m)\n",
      "\u001b[31mAttributeError\u001b[39m: module 'math' has no attribute 'arctan'"
     ]
    }
   ],
   "source": [
    "# 3b723227-9cf1-5bbc-98ed-0d80db2bb7dd\n",
    "# [PlayerLocationAtKill(subject='3b723227-9cf1-5bbc-98ed-0d80db2bb7dd', viewRadians=0.4983517527580261, location=Location(x=2592, y=-758)\n",
    "# x=3589 y=-219\n",
    "\n",
    "import math\n",
    "kill_no= 16\n",
    "x_coordinate = val_obj.kills[kill_no].victimLocation.x\n",
    "y_coordinate = val_obj.kills[kill_no].victimLocation.y\n",
    "filtered_locations = [location for location in val_obj.kills[kill_no].playerLocations if location.subject == val_obj.kills[kill_no].killer]\n",
    "angle = math.atan2(y_coordinate- filtered_locations[0].location.y,x_coordinate- filtered_locations[0].location.x )\n",
    "print(f\"The angle is {angle} radians vs view radian of {filtered_locations[0].viewRadians}\")\n"
   ]
  },
  {
   "cell_type": "code",
   "execution_count": 96,
   "metadata": {},
   "outputs": [
    {
     "data": {
      "text/plain": [
       "{'gameTime': 1659068,\n",
       " 'roundTime': 3677,\n",
       " 'round': 16,\n",
       " 'killer': None,\n",
       " 'victim': '3b723227-9cf1-5bbc-98ed-0d80db2bb7dd',\n",
       " 'victimLocation': {'x': 5841, 'y': 1541},\n",
       " 'assistants': [],\n",
       " 'playerLocations': [{'subject': '33cd3fb6-8b52-521c-b773-bfa8c64f0799',\n",
       "   'viewRadians': 1.8062629699707031,\n",
       "   'location': {'x': -4107, 'y': -718}},\n",
       "  {'subject': '3c3907de-fce6-54a7-96c6-178f1dc0864e',\n",
       "   'viewRadians': 1.0532695055007935,\n",
       "   'location': {'x': 1065, 'y': -2205}},\n",
       "  {'subject': '2b549d98-3f17-5998-b763-a44e0a6f0579',\n",
       "   'viewRadians': 4.698760986328125,\n",
       "   'location': {'x': -3542, 'y': 4167}},\n",
       "  {'subject': '94633460-a15f-561b-9f04-5ea4f48a96e3',\n",
       "   'viewRadians': 1.5400208234786987,\n",
       "   'location': {'x': 2308, 'y': -3737}},\n",
       "  {'subject': 'a8c84788-7453-5038-87f5-3a9789f6302f',\n",
       "   'viewRadians': 4.429752349853516,\n",
       "   'location': {'x': -3211, 'y': 3955}},\n",
       "  {'subject': '3bebba40-e632-5373-bd47-37ddbd44ebed',\n",
       "   'viewRadians': 5.5336432456970215,\n",
       "   'location': {'x': -3456, 'y': 2224}},\n",
       "  {'subject': 'd24b4433-306c-515a-8f8e-130b8f2f72f5',\n",
       "   'viewRadians': 4.140500545501709,\n",
       "   'location': {'x': -4040, 'y': 1472}},\n",
       "  {'subject': 'dabcc335-7d05-57bd-8b1e-b846d7afdbbb',\n",
       "   'viewRadians': 0.6366016864776611,\n",
       "   'location': {'x': -756, 'y': -516}},\n",
       "  {'subject': '6cd1835b-36f8-59f6-998c-6bb303ef7d7d',\n",
       "   'viewRadians': 3.691141128540039,\n",
       "   'location': {'x': -3458, 'y': 1743}}],\n",
       " 'finishingDamage': {'damageType': 'Fall',\n",
       "  'damageItem': '',\n",
       "  'isSecondaryFireMode': False}}"
      ]
     },
     "execution_count": 96,
     "metadata": {},
     "output_type": "execute_result"
    }
   ],
   "source": [
    "# d[\"roundResults\"][13][\"playerStats\"][3][\"ability\"]\n",
    "\n",
    "# d[\"roundResults\"][11][\"playerStats\"]\n",
    "\n",
    "\n",
    "# d[\"roundResults\"][6][\"playerEconomies\"]\n",
    "\n",
    "# d[\"matchInfo\"]\n",
    "\n",
    "# for player in d[\"players\"]:\n",
    "#     print(player[\"competitiveTier\"])\n",
    "\n",
    "\n",
    "\n",
    "# d[\"players\"][3][\"roundDamage\"]\n",
    "\n",
    "\n",
    "# d[\"roundResults\"][0][\"playerStats\"][0][\"damage\"]\n",
    "\n",
    "# d[\"roundResults\"][6][\"playerScores\"]\n",
    "\n",
    "# d[\"roundResults\"][11][\"playerStats\"][6][\"kills\"][0][\"playerLocations\"]\n",
    "\n",
    "# d[\"players\"][0][\"stats\"]\n",
    "\n",
    "# d[\"players\"][5][\"newPlayerExperienceDetails\"]\n",
    "\n",
    "# d[\"players\"][0][\"stats\"][\"abilityCasts\"]\n",
    "\n",
    "d[\"kills\"][118]"
   ]
  },
  {
   "cell_type": "code",
   "execution_count": 17,
   "metadata": {},
   "outputs": [
    {
     "data": {
      "text/plain": [
       "[{'receiver': '8764f12b-eae8-58a1-909a-1bb4f654fb16',\n",
       "  'damage': 160,\n",
       "  'legshots': 0,\n",
       "  'bodyshots': 0,\n",
       "  'headshots': 1},\n",
       " {'receiver': '9c5b9fa3-328d-57a8-a3f8-b3e20fa251d2',\n",
       "  'damage': 160,\n",
       "  'legshots': 0,\n",
       "  'bodyshots': 0,\n",
       "  'headshots': 1}]"
      ]
     },
     "execution_count": 17,
     "metadata": {},
     "output_type": "execute_result"
    }
   ],
   "source": [
    "d[\"roundResults\"][2][\"playerStats\"][0][\"damage\"]"
   ]
  },
  {
   "cell_type": "code",
   "execution_count": 51,
   "metadata": {},
   "outputs": [
    {
     "data": {
      "text/plain": [
       "'67bb72a222f58af17b97593f'"
      ]
     },
     "execution_count": 51,
     "metadata": {},
     "output_type": "execute_result"
    }
   ],
   "source": [
    "d[\"_id\"]"
   ]
  },
  {
   "cell_type": "code",
   "execution_count": 137,
   "metadata": {},
   "outputs": [
    {
     "data": {
      "text/plain": [
       "{'matchId': 'e66e6778-49b4-4d2b-8a92-e55db45acb51',\n",
       " 'mapId': '/Game/Maps/Duality/Duality',\n",
       " 'gamePodId': 'aresriot.aws-sae1-prod.br-gp-saopaulo-1',\n",
       " 'gameLoopZone': 'aresriot.aws-usw2-prod.na-glz-br-1',\n",
       " 'gameServerAddress': '',\n",
       " 'gameVersion': 'release-10.03-shipping-8-3266718',\n",
       " 'gameLengthMillis': 2872225,\n",
       " 'gameStartMillis': 1740289352662,\n",
       " 'provisioningFlowID': 'Matchmaking',\n",
       " 'isCompleted': True,\n",
       " 'customGameName': '',\n",
       " 'forcePostProcessing': False,\n",
       " 'queueID': 'competitive',\n",
       " 'gameMode': '/Game/GameModes/Bomb/BombGameMode.BombGameMode_C',\n",
       " 'isRanked': True,\n",
       " 'isMatchSampled': False,\n",
       " 'seasonId': '476b0893-4c2e-abd6-c5fe-708facff0772',\n",
       " 'completionState': 'Completed',\n",
       " 'platformType': 'pc',\n",
       " 'premierMatchInfo': {'premierSeasonId': None, 'premierEventId': None},\n",
       " 'partyRRPenalties': {'e62a887f-1dd2-43aa-be00-d06e5f4e72a5': 0.25,\n",
       "  '162e1d5c-95cb-4cca-b107-819683842e25': 0.25},\n",
       " 'shouldMatchDisablePenalties': False}"
      ]
     },
     "execution_count": 137,
     "metadata": {},
     "output_type": "execute_result"
    }
   ],
   "source": [
    "d[\"matchInfo\"]\n",
    "# MatchInfo.parse_obj(d[\"matchInfo\"])\n"
   ]
  },
  {
   "cell_type": "code",
   "execution_count": 97,
   "metadata": {},
   "outputs": [
    {
     "data": {
      "text/plain": [
       "[]"
      ]
     },
     "execution_count": 97,
     "metadata": {},
     "output_type": "execute_result"
    }
   ],
   "source": [
    "d['coaches']\n",
    "\n",
    "# Coaches.parse_obj(d[\"coaches\"])"
   ]
  },
  {
   "cell_type": "code",
   "execution_count": 105,
   "metadata": {},
   "outputs": [
    {
     "name": "stderr",
     "output_type": "stream",
     "text": [
      "C:\\Users\\Public\\Documents\\Wondershare\\CreatorTemp\\ipykernel_3492\\2660214180.py:10: PydanticDeprecatedSince20: The `parse_obj` method is deprecated; use `model_validate` instead. Deprecated in Pydantic V2.0 to be removed in V3.0. See Pydantic V2 Migration Guide at https://errors.pydantic.dev/2.10/migration/\n",
      "  Rounds.parse_obj(d[\"roundResults\"])\n"
     ]
    },
    {
     "ename": "ValidationError",
     "evalue": "1 validation error for Rounds\n  Input should be a valid dictionary or instance of Rounds [type=model_type, input_value=[{'roundNum': 0, 'roundRe...b11695c', 'score': 0}]}], input_type=list]\n    For further information visit https://errors.pydantic.dev/2.10/v/model_type",
     "output_type": "error",
     "traceback": [
      "\u001b[31m---------------------------------------------------------------------------\u001b[39m",
      "\u001b[31mValidationError\u001b[39m                           Traceback (most recent call last)",
      "\u001b[36mCell\u001b[39m\u001b[36m \u001b[39m\u001b[32mIn[105]\u001b[39m\u001b[32m, line 10\u001b[39m\n\u001b[32m      6\u001b[39m d[\u001b[33m\"\u001b[39m\u001b[33mroundResults\u001b[39m\u001b[33m\"\u001b[39m][\u001b[32m9\u001b[39m]\n\u001b[32m      8\u001b[39m \u001b[38;5;66;03m# RoundData.parse_obj(d[\"roundResults\"][0])\u001b[39;00m\n\u001b[32m---> \u001b[39m\u001b[32m10\u001b[39m \u001b[43mRounds\u001b[49m\u001b[43m.\u001b[49m\u001b[43mparse_obj\u001b[49m\u001b[43m(\u001b[49m\u001b[43md\u001b[49m\u001b[43m[\u001b[49m\u001b[33;43m\"\u001b[39;49m\u001b[33;43mroundResults\u001b[39;49m\u001b[33;43m\"\u001b[39;49m\u001b[43m]\u001b[49m\u001b[43m)\u001b[49m\n",
      "\u001b[36mFile \u001b[39m\u001b[32mc:\\Users\\53344\\Downloads\\Cases\\Mojo\\mojo\\Lib\\site-packages\\pydantic\\main.py:1222\u001b[39m, in \u001b[36mBaseModel.parse_obj\u001b[39m\u001b[34m(cls, obj)\u001b[39m\n\u001b[32m   1214\u001b[39m \u001b[38;5;129m@classmethod\u001b[39m\n\u001b[32m   1215\u001b[39m \u001b[38;5;129m@typing_extensions\u001b[39m.deprecated(\u001b[33m'\u001b[39m\u001b[33mThe `parse_obj` method is deprecated; use `model_validate` instead.\u001b[39m\u001b[33m'\u001b[39m, category=\u001b[38;5;28;01mNone\u001b[39;00m)\n\u001b[32m   1216\u001b[39m \u001b[38;5;28;01mdef\u001b[39;00m\u001b[38;5;250m \u001b[39m\u001b[34mparse_obj\u001b[39m(\u001b[38;5;28mcls\u001b[39m, obj: Any) -> Self:  \u001b[38;5;66;03m# noqa: D102\u001b[39;00m\n\u001b[32m   1217\u001b[39m     warnings.warn(\n\u001b[32m   1218\u001b[39m         \u001b[33m'\u001b[39m\u001b[33mThe `parse_obj` method is deprecated; use `model_validate` instead.\u001b[39m\u001b[33m'\u001b[39m,\n\u001b[32m   1219\u001b[39m         category=PydanticDeprecatedSince20,\n\u001b[32m   1220\u001b[39m         stacklevel=\u001b[32m2\u001b[39m,\n\u001b[32m   1221\u001b[39m     )\n\u001b[32m-> \u001b[39m\u001b[32m1222\u001b[39m     \u001b[38;5;28;01mreturn\u001b[39;00m \u001b[38;5;28;43mcls\u001b[39;49m\u001b[43m.\u001b[49m\u001b[43mmodel_validate\u001b[49m\u001b[43m(\u001b[49m\u001b[43mobj\u001b[49m\u001b[43m)\u001b[49m\n",
      "\u001b[36mFile \u001b[39m\u001b[32mc:\\Users\\53344\\Downloads\\Cases\\Mojo\\mojo\\Lib\\site-packages\\pydantic\\main.py:627\u001b[39m, in \u001b[36mBaseModel.model_validate\u001b[39m\u001b[34m(cls, obj, strict, from_attributes, context)\u001b[39m\n\u001b[32m    625\u001b[39m \u001b[38;5;66;03m# `__tracebackhide__` tells pytest and some other tools to omit this function from tracebacks\u001b[39;00m\n\u001b[32m    626\u001b[39m __tracebackhide__ = \u001b[38;5;28;01mTrue\u001b[39;00m\n\u001b[32m--> \u001b[39m\u001b[32m627\u001b[39m \u001b[38;5;28;01mreturn\u001b[39;00m \u001b[38;5;28;43mcls\u001b[39;49m\u001b[43m.\u001b[49m\u001b[43m__pydantic_validator__\u001b[49m\u001b[43m.\u001b[49m\u001b[43mvalidate_python\u001b[49m\u001b[43m(\u001b[49m\n\u001b[32m    628\u001b[39m \u001b[43m    \u001b[49m\u001b[43mobj\u001b[49m\u001b[43m,\u001b[49m\u001b[43m \u001b[49m\u001b[43mstrict\u001b[49m\u001b[43m=\u001b[49m\u001b[43mstrict\u001b[49m\u001b[43m,\u001b[49m\u001b[43m \u001b[49m\u001b[43mfrom_attributes\u001b[49m\u001b[43m=\u001b[49m\u001b[43mfrom_attributes\u001b[49m\u001b[43m,\u001b[49m\u001b[43m \u001b[49m\u001b[43mcontext\u001b[49m\u001b[43m=\u001b[49m\u001b[43mcontext\u001b[49m\n\u001b[32m    629\u001b[39m \u001b[43m\u001b[49m\u001b[43m)\u001b[49m\n",
      "\u001b[31mValidationError\u001b[39m: 1 validation error for Rounds\n  Input should be a valid dictionary or instance of Rounds [type=model_type, input_value=[{'roundNum': 0, 'roundRe...b11695c', 'score': 0}]}], input_type=list]\n    For further information visit https://errors.pydantic.dev/2.10/v/model_type"
     ]
    }
   ],
   "source": [
    "# print(d[\"roundResults\"][0][\"playerEconomies\"][0])\n",
    "\n",
    "\n",
    "# print(d[\"roundResults\"][0][\"playerStats\"][0][\"economy\"]) #5c0b4b5d-d400-5702-ac18-bea54b11695c)\n",
    "\n",
    "d[\"roundResults\"][9]\n",
    "\n",
    "# RoundData.parse_obj(d[\"roundResults\"][0])\n",
    "\n",
    "Rounds.parse_obj(d[\"roundResults\"])"
   ]
  },
  {
   "cell_type": "code",
   "execution_count": 94,
   "metadata": {},
   "outputs": [
    {
     "name": "stderr",
     "output_type": "stream",
     "text": [
      "C:\\Users\\Public\\Documents\\Wondershare\\CreatorTemp\\ipykernel_3492\\3600864747.py:12: PydanticDeprecatedSince20: The `parse_obj` method is deprecated; use `model_validate` instead. Deprecated in Pydantic V2.0 to be removed in V3.0. See Pydantic V2 Migration Guide at https://errors.pydantic.dev/2.10/migration/\n",
      "  KillEvent.parse_obj(d[\"kills\"][0])\n"
     ]
    },
    {
     "data": {
      "text/plain": [
       "KillEvent(gameTime=66382, roundTime=11370, killer='c65ebe29-155d-5fe5-b57e-4e0135538473', victim='618892e4-a1a0-5854-a859-ce5ab6e0e403', victimLocation=Location(x=9439, y=-5502), assistants=[], playerLocations=[PlayerLocation(subject='5c0b4b5d-d400-5702-ac18-bea54b11695c', viewRadians=4.4651055335998535, location=Location(x=8662, y=-4283)), PlayerLocation(subject='9e843164-9005-59e9-b6d2-f195f9e27ec3', viewRadians=3.158561944961548, location=Location(x=8762, y=-4320)), PlayerLocation(subject='baeed6ee-1150-5f0e-a2ea-4f6df6985c7d', viewRadians=4.347114562988281, location=Location(x=10482, y=-3945)), PlayerLocation(subject='c65ebe29-155d-5fe5-b57e-4e0135538473', viewRadians=3.382044553756714, location=Location(x=10075, y=-5327)), PlayerLocation(subject='3142ab15-08d5-5431-8839-3264e0b215ad', viewRadians=4.330811500549316, location=Location(x=5818, y=3630)), PlayerLocation(subject='c778a155-6a7e-595b-91e5-02ddf52041d9', viewRadians=3.4232704639434814, location=Location(x=5281, y=-3342)), PlayerLocation(subject='60f313d7-143a-580b-8514-812f321095ea', viewRadians=4.0425190925598145, location=Location(x=9222, y=-2478)), PlayerLocation(subject='6afb2ce3-9850-51f7-9cbe-54d72a87b15f', viewRadians=3.309138774871826, location=Location(x=9302, y=-2250)), PlayerLocation(subject='9de6841b-7461-5abd-a807-eaf480054b10', viewRadians=3.683232545852661, location=Location(x=9481, y=-2576))], finishingDamage=FinishingDamage(damageType='Weapon', damageItem='1baa85b4-4c70-1284-64bb-6481dfc3bb4e', isSecondaryFireMode=False))"
      ]
     },
     "execution_count": 94,
     "metadata": {},
     "output_type": "execute_result"
    }
   ],
   "source": [
    "# maximum=0\n",
    "# for i in range(len(d[\"kills\"])):\n",
    "#     x= len(d[\"kills\"][i][\"playerLocations\"])\n",
    "#     maximum= max(x, maximum)\n",
    "#     if x>=9:\n",
    "#         print(i)\n",
    "\n",
    "# print(maximum)\n",
    "\n",
    "# type(d[\"kills\"])\n",
    "\n",
    "KillEvent.parse_obj(d[\"kills\"][0])\n",
    "\n",
    "# Kills.parse_obj(d[\"kills\"])\n"
   ]
  },
  {
   "cell_type": "code",
   "execution_count": 89,
   "metadata": {},
   "outputs": [
    {
     "name": "stderr",
     "output_type": "stream",
     "text": [
      "C:\\Users\\Public\\Documents\\Wondershare\\CreatorTemp\\ipykernel_3492\\1220713990.py:19: PydanticDeprecatedSince20: The `parse_obj` method is deprecated; use `model_validate` instead. Deprecated in Pydantic V2.0 to be removed in V3.0. See Pydantic V2 Migration Guide at https://errors.pydantic.dev/2.10/migration/\n",
      "  PlayerSchema.parse_obj(d[\"players\"][2])\n"
     ]
    },
    {
     "data": {
      "text/plain": [
       "PlayerSchema(subject='6afb2ce3-9850-51f7-9cbe-54d72a87b15f', gameName='DXE Sanak', tagLine='sukii', platformInfo=PlatformInfo(platformType='pc', platformOS='Windows', platformOSVersion='10.0.26100.1.256.64bit', platformChipset='Unknown', platformDevice=''), teamId='Blue', partyId='86b135f5-3233-4d1b-ba88-95b859a7f09f', characterId='0e38b510-41a8-5780-5e8f-568b2a4f2d6c', stats=Stats(score=6503, roundsPlayed=22, kills=22, deaths=17, assists=3, playtimeMillis=1819409, abilityCasts=AbilityCasts(grenadeCasts=0, ability1Casts=0, ability2Casts=21, ultimateCasts=4)), roundDamage=[RoundDamage(round=0, receiver='baeed6ee-1150-5f0e-a2ea-4f6df6985c7d', damage=105), RoundDamage(round=3, receiver='c778a155-6a7e-595b-91e5-02ddf52041d9', damage=260), RoundDamage(round=3, receiver='c65ebe29-155d-5fe5-b57e-4e0135538473', damage=65), RoundDamage(round=3, receiver='9e843164-9005-59e9-b6d2-f195f9e27ec3', damage=193), RoundDamage(round=4, receiver='c65ebe29-155d-5fe5-b57e-4e0135538473', damage=268), RoundDamage(round=4, receiver='5c0b4b5d-d400-5702-ac18-bea54b11695c', damage=160), RoundDamage(round=6, receiver='c65ebe29-155d-5fe5-b57e-4e0135538473', damage=200), RoundDamage(round=7, receiver='c778a155-6a7e-595b-91e5-02ddf52041d9', damage=199), RoundDamage(round=7, receiver='9e843164-9005-59e9-b6d2-f195f9e27ec3', damage=40), RoundDamage(round=7, receiver='baeed6ee-1150-5f0e-a2ea-4f6df6985c7d', damage=160), RoundDamage(round=7, receiver='c65ebe29-155d-5fe5-b57e-4e0135538473', damage=34), RoundDamage(round=8, receiver='5c0b4b5d-d400-5702-ac18-bea54b11695c', damage=160), RoundDamage(round=8, receiver='9e843164-9005-59e9-b6d2-f195f9e27ec3', damage=160), RoundDamage(round=9, receiver='c778a155-6a7e-595b-91e5-02ddf52041d9', damage=160), RoundDamage(round=10, receiver='9e843164-9005-59e9-b6d2-f195f9e27ec3', damage=120), RoundDamage(round=11, receiver='c65ebe29-155d-5fe5-b57e-4e0135538473', damage=160), RoundDamage(round=11, receiver='9e843164-9005-59e9-b6d2-f195f9e27ec3', damage=160), RoundDamage(round=11, receiver='5c0b4b5d-d400-5702-ac18-bea54b11695c', damage=160), RoundDamage(round=11, receiver='c778a155-6a7e-595b-91e5-02ddf52041d9', damage=160), RoundDamage(round=12, receiver='c778a155-6a7e-595b-91e5-02ddf52041d9', damage=50), RoundDamage(round=12, receiver='c65ebe29-155d-5fe5-b57e-4e0135538473', damage=105), RoundDamage(round=12, receiver='5c0b4b5d-d400-5702-ac18-bea54b11695c', damage=11), RoundDamage(round=14, receiver='5c0b4b5d-d400-5702-ac18-bea54b11695c', damage=80), RoundDamage(round=16, receiver='baeed6ee-1150-5f0e-a2ea-4f6df6985c7d', damage=182), RoundDamage(round=16, receiver='5c0b4b5d-d400-5702-ac18-bea54b11695c', damage=200), RoundDamage(round=16, receiver='c65ebe29-155d-5fe5-b57e-4e0135538473', damage=40), RoundDamage(round=18, receiver='baeed6ee-1150-5f0e-a2ea-4f6df6985c7d', damage=40), RoundDamage(round=18, receiver='5c0b4b5d-d400-5702-ac18-bea54b11695c', damage=160), RoundDamage(round=20, receiver='baeed6ee-1150-5f0e-a2ea-4f6df6985c7d', damage=200), RoundDamage(round=21, receiver='c778a155-6a7e-595b-91e5-02ddf52041d9', damage=200)], competitiveTier=23, isObserver=False, playerCard='1a127cbf-4131-3581-da59-529b7e0d9495', playerTitle='5f44dab2-457a-66e0-9d14-c2b1d31a804f', preferredLevelBorder='9c4afb15-40d7-3557-062a-4bb198cb9958', accountLevel=505, sessionPlaytimeMinutes=527, xpModifications=None, behaviorFactors=BehaviorFactors(afkRounds=0, collisions=0.02933611534535885, commsRatingRecovery=0, damageParticipationOutgoing=0, friendlyFireIncoming=0, friendlyFireOutgoing=0, mouseMovement=0, selfDamage=0, stayedInSpawnRounds=0), newPlayerExperienceDetails=NewPlayerExperienceDetails(basicMovement=BasicMovement(idleTimeMillis=0, objectiveCompleteTimeMillis=0), basicGunSkill=BasicGunSkill(idleTimeMillis=0, objectiveCompleteTimeMillis=0), adaptiveBots=AdaptiveBots(idleTimeMillis=0, objectiveCompleteTimeMillis=0, adaptiveBotAverageDurationMillisAllAttempts=0, adaptiveBotAverageDurationMillisFirstAttempt=0, killDetailsFirstAttempt=None), ability=AbilityDetail(idleTimeMillis=0, objectiveCompleteTimeMillis=0), bombPlant=BombPlant(idleTimeMillis=0, objectiveCompleteTimeMillis=0), defendBombSite=DefendBombSite(idleTimeMillis=0, objectiveCompleteTimeMillis=0, success=False), settingStatus=SettingStatus(isMouseSensitivityDefault=False, isCrosshairDefault=False), versionString=''))"
      ]
     },
     "execution_count": 89,
     "metadata": {},
     "output_type": "execute_result"
    }
   ],
   "source": [
    "#List of dicts with each dict corresponding to each of the players in the game\n",
    "#dict_keys(['subject', 'gameName', 'tagLine', 'platformInfo', 'teamId', 'partyId', \n",
    "# 'characterId', 'stats', 'roundDamage', 'competitiveTier', 'isObserver', \n",
    "# 'playerCard', 'playerTitle', 'preferredLevelBorder', '\n",
    "# accountLevel', 'sessionPlaytimeMinutes', 'xpModifications', 'behaviorFactors', 'newPlayerExperienceDetails'])\n",
    "\n",
    "# for player in d[\"players\"]:\n",
    "#     print(player[\"subject\"])\n",
    "\n",
    "\n",
    "# total=0\n",
    "# for player in d[\"players\"]:\n",
    "#     total=total+player[\"stats\"][\"kills\"]\n",
    "\n",
    "# print(total)\n",
    "\n",
    "\n",
    "d[\"players\"][2]\n",
    "PlayerSchema.parse_obj(d[\"players\"][2])\n",
    "\n",
    "# Players.parse_obj(d[\"players\"])\n",
    "# roundwise_damage_to_receiver= pd.DataFrame(d[\"players\"][1][\"roundDamage\"])\n",
    "# df2 = roundwise_damage_to_receiver.groupby([\"round\", \"receiver\"])['damage'].sum().unstack('receiver').fillna(0)\n",
    "# # df2\n",
    "# df2.plot(kind='bar', stacked=True)\n",
    "\n",
    "\n"
   ]
  },
  {
   "cell_type": "code",
   "execution_count": 56,
   "metadata": {},
   "outputs": [],
   "source": [
    "d[\"region\"]"
   ]
  },
  {
   "cell_type": "code",
   "execution_count": 88,
   "metadata": {},
   "outputs": [
    {
     "name": "stderr",
     "output_type": "stream",
     "text": [
      "C:\\Users\\Public\\Documents\\Wondershare\\CreatorTemp\\ipykernel_3492\\3813266911.py:4: PydanticDeprecatedSince20: The `parse_obj` method is deprecated; use `model_validate` instead. Deprecated in Pydantic V2.0 to be removed in V3.0. See Pydantic V2 Migration Guide at https://errors.pydantic.dev/2.10/migration/\n",
      "  RoundData.parse_obj(d[\"roundResults\"][0])\n"
     ]
    },
    {
     "data": {
      "text/plain": [
       "RoundData(roundNum=0, roundResult='Eliminated', roundCeremony='CeremonyDefault', winningTeam='Red', bombPlanter='c65ebe29-155d-5fe5-b57e-4e0135538473', bombDefuser=None, plantRoundTime=30150, plantPlayerLocations=[PlayerLocation(subject='9e843164-9005-59e9-b6d2-f195f9e27ec3', viewRadians=1.6817222833633423, location=Location(x=8329, y=-5364)), PlayerLocation(subject='c65ebe29-155d-5fe5-b57e-4e0135538473', viewRadians=1.7407809495925903, location=Location(x=7667, y=-6366)), PlayerLocation(subject='3142ab15-08d5-5431-8839-3264e0b215ad', viewRadians=4.101864814758301, location=Location(x=9359, y=-2350)), PlayerLocation(subject='9de6841b-7461-5abd-a807-eaf480054b10', viewRadians=4.8614726066589355, location=Location(x=7307, y=-3424))], plantLocation=Location(x=7667, y=-6366), plantSite='B', defuseRoundTime=0, defusePlayerLocations=None, defuseLocation=Location(x=0, y=0), playerStats=[PlayerStat(subject='5c0b4b5d-d400-5702-ac18-bea54b11695c', kills=[], damage=[], score=0, economy=Economy(loadoutValue=700, weapon='29a0cfab-485b-f5d5-779a-b59f85e204a8', armor=None, remaining=100, spent=700), ability=Ability(grenadeEffects=None, ability1Effects=None, ability2Effects=None, ultimateEffects=None), wasAfk=False, wasPenalized=False, stayedInSpawn=False), PlayerStat(subject='618892e4-a1a0-5854-a859-ce5ab6e0e403', kills=[], damage=[], score=0, economy=Economy(loadoutValue=1000, weapon='e336c6b8-418d-9340-d77f-7a9e4cfe0702', armor=None, remaining=0, spent=800), ability=Ability(grenadeEffects=None, ability1Effects=None, ability2Effects=None, ultimateEffects=None), wasAfk=False, wasPenalized=False, stayedInSpawn=False), PlayerStat(subject='9e843164-9005-59e9-b6d2-f195f9e27ec3', kills=[KillEvent(gameTime=75599, roundTime=20587, killer='9e843164-9005-59e9-b6d2-f195f9e27ec3', victim='6afb2ce3-9850-51f7-9cbe-54d72a87b15f', victimLocation=Location(x=7191, y=-4607), assistants=['baeed6ee-1150-5f0e-a2ea-4f6df6985c7d'], playerLocations=[PlayerLocation(subject='9e843164-9005-59e9-b6d2-f195f9e27ec3', viewRadians=3.9319772720336914, location=Location(x=7728, y=-4078)), PlayerLocation(subject='c65ebe29-155d-5fe5-b57e-4e0135538473', viewRadians=2.3241422176361084, location=Location(x=9064, y=-6607)), PlayerLocation(subject='3142ab15-08d5-5431-8839-3264e0b215ad', viewRadians=5.219849109649658, location=Location(x=8273, y=1709)), PlayerLocation(subject='c778a155-6a7e-595b-91e5-02ddf52041d9', viewRadians=6.101470947265625, location=Location(x=5076, y=-4387)), PlayerLocation(subject='60f313d7-143a-580b-8514-812f321095ea', viewRadians=4.003977298736572, location=Location(x=9444, y=-2343)), PlayerLocation(subject='9de6841b-7461-5abd-a807-eaf480054b10', viewRadians=5.21821928024292, location=Location(x=6746, y=-3070))], finishingDamage=FinishingDamage(damageType='Weapon', damageItem='1baa85b4-4c70-1284-64bb-6481dfc3bb4e', isSecondaryFireMode=False)), KillEvent(gameTime=89769, roundTime=34757, killer='9e843164-9005-59e9-b6d2-f195f9e27ec3', victim='3142ab15-08d5-5431-8839-3264e0b215ad', victimLocation=Location(x=8702, y=-2458), assistants=['c65ebe29-155d-5fe5-b57e-4e0135538473'], playerLocations=[PlayerLocation(subject='9e843164-9005-59e9-b6d2-f195f9e27ec3', viewRadians=1.4318746328353882, location=Location(x=8281, y=-5457)), PlayerLocation(subject='c65ebe29-155d-5fe5-b57e-4e0135538473', viewRadians=6.263269424438477, location=Location(x=9047, y=-6383)), PlayerLocation(subject='9de6841b-7461-5abd-a807-eaf480054b10', viewRadians=5.1147966384887695, location=Location(x=7153, y=-3420))], finishingDamage=FinishingDamage(damageType='Weapon', damageItem='1baa85b4-4c70-1284-64bb-6481dfc3bb4e', isSecondaryFireMode=False))], damage=[DamageEvent(receiver='60f313d7-143a-580b-8514-812f321095ea', damage=50, legshots=1, bodyshots=2, headshots=0), DamageEvent(receiver='6afb2ce3-9850-51f7-9cbe-54d72a87b15f', damage=105, legshots=0, bodyshots=0, headshots=1), DamageEvent(receiver='9de6841b-7461-5abd-a807-eaf480054b10', damage=30, legshots=0, bodyshots=1, headshots=0), DamageEvent(receiver='3142ab15-08d5-5431-8839-3264e0b215ad', damage=14, legshots=0, bodyshots=1, headshots=0)], score=457, economy=Economy(loadoutValue=900, weapon='1baa85b4-4c70-1284-64bb-6481dfc3bb4e', armor=None, remaining=100, spent=700), ability=Ability(grenadeEffects=None, ability1Effects=None, ability2Effects=None, ultimateEffects=None), wasAfk=False, wasPenalized=False, stayedInSpawn=False), PlayerStat(subject='baeed6ee-1150-5f0e-a2ea-4f6df6985c7d', kills=[], damage=[], score=25, economy=Economy(loadoutValue=900, weapon='1baa85b4-4c70-1284-64bb-6481dfc3bb4e', armor=None, remaining=50, spent=750), ability=Ability(grenadeEffects=None, ability1Effects=None, ability2Effects=None, ultimateEffects=None), wasAfk=False, wasPenalized=False, stayedInSpawn=False), PlayerStat(subject='c65ebe29-155d-5fe5-b57e-4e0135538473', kills=[KillEvent(gameTime=66382, roundTime=11370, killer='c65ebe29-155d-5fe5-b57e-4e0135538473', victim='618892e4-a1a0-5854-a859-ce5ab6e0e403', victimLocation=Location(x=9439, y=-5502), assistants=[], playerLocations=[PlayerLocation(subject='5c0b4b5d-d400-5702-ac18-bea54b11695c', viewRadians=4.4651055335998535, location=Location(x=8662, y=-4283)), PlayerLocation(subject='9e843164-9005-59e9-b6d2-f195f9e27ec3', viewRadians=3.158561944961548, location=Location(x=8762, y=-4320)), PlayerLocation(subject='baeed6ee-1150-5f0e-a2ea-4f6df6985c7d', viewRadians=4.347114562988281, location=Location(x=10482, y=-3945)), PlayerLocation(subject='c65ebe29-155d-5fe5-b57e-4e0135538473', viewRadians=3.382044553756714, location=Location(x=10075, y=-5327)), PlayerLocation(subject='3142ab15-08d5-5431-8839-3264e0b215ad', viewRadians=4.330811500549316, location=Location(x=5818, y=3630)), PlayerLocation(subject='c778a155-6a7e-595b-91e5-02ddf52041d9', viewRadians=3.4232704639434814, location=Location(x=5281, y=-3342)), PlayerLocation(subject='60f313d7-143a-580b-8514-812f321095ea', viewRadians=4.0425190925598145, location=Location(x=9222, y=-2478)), PlayerLocation(subject='6afb2ce3-9850-51f7-9cbe-54d72a87b15f', viewRadians=3.309138774871826, location=Location(x=9302, y=-2250)), PlayerLocation(subject='9de6841b-7461-5abd-a807-eaf480054b10', viewRadians=3.683232545852661, location=Location(x=9481, y=-2576))], finishingDamage=FinishingDamage(damageType='Weapon', damageItem='1baa85b4-4c70-1284-64bb-6481dfc3bb4e', isSecondaryFireMode=False)), KillEvent(gameTime=90688, roundTime=35676, killer='c65ebe29-155d-5fe5-b57e-4e0135538473', victim='9de6841b-7461-5abd-a807-eaf480054b10', victimLocation=Location(x=6945, y=-3797), assistants=[], playerLocations=[PlayerLocation(subject='9e843164-9005-59e9-b6d2-f195f9e27ec3', viewRadians=2.3210995197296143, location=Location(x=8477, y=-5380)), PlayerLocation(subject='c65ebe29-155d-5fe5-b57e-4e0135538473', viewRadians=2.2011663913726807, location=Location(x=8946, y=-6528))], finishingDamage=FinishingDamage(damageType='Weapon', damageItem='e336c6b8-418d-9340-d77f-7a9e4cfe0702', isSecondaryFireMode=False))], damage=[DamageEvent(receiver='9de6841b-7461-5abd-a807-eaf480054b10', damage=175, legshots=0, bodyshots=1, headshots=1), DamageEvent(receiver='618892e4-a1a0-5854-a859-ce5ab6e0e403', damage=105, legshots=0, bodyshots=0, headshots=1), DamageEvent(receiver='3142ab15-08d5-5431-8839-3264e0b215ad', damage=50, legshots=0, bodyshots=1, headshots=0)], score=460, economy=Economy(loadoutValue=700, weapon='1baa85b4-4c70-1284-64bb-6481dfc3bb4e', armor=None, remaining=100, spent=700), ability=Ability(grenadeEffects=None, ability1Effects=None, ability2Effects=None, ultimateEffects=None), wasAfk=False, wasPenalized=False, stayedInSpawn=False), PlayerStat(subject='3142ab15-08d5-5431-8839-3264e0b215ad', kills=[], damage=[], score=0, economy=Economy(loadoutValue=600, weapon='29a0cfab-485b-f5d5-779a-b59f85e204a8', armor=None, remaining=0, spent=800), ability=Ability(grenadeEffects=None, ability1Effects=None, ability2Effects=None, ultimateEffects=None), wasAfk=False, wasPenalized=False, stayedInSpawn=False), PlayerStat(subject='c778a155-6a7e-595b-91e5-02ddf52041d9', kills=[KillEvent(gameTime=83103, roundTime=28091, killer='c778a155-6a7e-595b-91e5-02ddf52041d9', victim='60f313d7-143a-580b-8514-812f321095ea', victimLocation=Location(x=9158, y=-2541), assistants=['9e843164-9005-59e9-b6d2-f195f9e27ec3'], playerLocations=[PlayerLocation(subject='9e843164-9005-59e9-b6d2-f195f9e27ec3', viewRadians=1.489266276359558, location=Location(x=7191, y=-5110)), PlayerLocation(subject='c65ebe29-155d-5fe5-b57e-4e0135538473', viewRadians=1.565618872642517, location=Location(x=7667, y=-6366)), PlayerLocation(subject='3142ab15-08d5-5431-8839-3264e0b215ad', viewRadians=4.08126974105835, location=Location(x=9559, y=-1937)), PlayerLocation(subject='c778a155-6a7e-595b-91e5-02ddf52041d9', viewRadians=0.991237998008728, location=Location(x=7245, y=-5471)), PlayerLocation(subject='9de6841b-7461-5abd-a807-eaf480054b10', viewRadians=4.693028926849365, location=Location(x=7254, y=-3426))], finishingDamage=FinishingDamage(damageType='Weapon', damageItem='1baa85b4-4c70-1284-64bb-6481dfc3bb4e', isSecondaryFireMode=False))], damage=[DamageEvent(receiver='60f313d7-143a-580b-8514-812f321095ea', damage=50, legshots=0, bodyshots=2, headshots=0), DamageEvent(receiver='3142ab15-08d5-5431-8839-3264e0b215ad', damage=41, legshots=0, bodyshots=2, headshots=0), DamageEvent(receiver='9de6841b-7461-5abd-a807-eaf480054b10', damage=30, legshots=0, bodyshots=1, headshots=0)], score=230, economy=Economy(loadoutValue=800, weapon='29a0cfab-485b-f5d5-779a-b59f85e204a8', armor='4dec83d5-4902-9ab3-bed6-a7a390761157', remaining=0, spent=800), ability=Ability(grenadeEffects=None, ability1Effects=None, ability2Effects=None, ultimateEffects=None), wasAfk=False, wasPenalized=False, stayedInSpawn=False), PlayerStat(subject='60f313d7-143a-580b-8514-812f321095ea', kills=[KillEvent(gameTime=67798, roundTime=12786, killer='60f313d7-143a-580b-8514-812f321095ea', victim='5c0b4b5d-d400-5702-ac18-bea54b11695c', victimLocation=Location(x=8595, y=-5007), assistants=[], playerLocations=[PlayerLocation(subject='9e843164-9005-59e9-b6d2-f195f9e27ec3', viewRadians=4.472805500030518, location=Location(x=8090, y=-4159)), PlayerLocation(subject='baeed6ee-1150-5f0e-a2ea-4f6df6985c7d', viewRadians=4.15297269821167, location=Location(x=10423, y=-4407)), PlayerLocation(subject='c65ebe29-155d-5fe5-b57e-4e0135538473', viewRadians=3.6732981204986572, location=Location(x=9711, y=-5474)), PlayerLocation(subject='3142ab15-08d5-5431-8839-3264e0b215ad', viewRadians=4.424191951751709, location=Location(x=5603, y=3712)), PlayerLocation(subject='c778a155-6a7e-595b-91e5-02ddf52041d9', viewRadians=4.475867748260498, location=Location(x=5205, y=-3300)), PlayerLocation(subject='60f313d7-143a-580b-8514-812f321095ea', viewRadians=4.642688751220703, location=Location(x=8760, y=-2486)), PlayerLocation(subject='6afb2ce3-9850-51f7-9cbe-54d72a87b15f', viewRadians=3.4952707290649414, location=Location(x=8541, y=-2007)), PlayerLocation(subject='9de6841b-7461-5abd-a807-eaf480054b10', viewRadians=3.4142589569091797, location=Location(x=8974, y=-2011))], finishingDamage=FinishingDamage(damageType='Weapon', damageItem='1baa85b4-4c70-1284-64bb-6481dfc3bb4e', isSecondaryFireMode=False))], damage=[DamageEvent(receiver='5c0b4b5d-d400-5702-ac18-bea54b11695c', damage=135, legshots=0, bodyshots=1, headshots=1), DamageEvent(receiver='9e843164-9005-59e9-b6d2-f195f9e27ec3', damage=58, legshots=0, bodyshots=3, headshots=0)], score=308, economy=Economy(loadoutValue=800, weapon='1baa85b4-4c70-1284-64bb-6481dfc3bb4e', armor=None, remaining=150, spent=650), ability=Ability(grenadeEffects=None, ability1Effects=None, ability2Effects=None, ultimateEffects=None), wasAfk=False, wasPenalized=False, stayedInSpawn=False), PlayerStat(subject='6afb2ce3-9850-51f7-9cbe-54d72a87b15f', kills=[KillEvent(gameTime=75357, roundTime=20345, killer='6afb2ce3-9850-51f7-9cbe-54d72a87b15f', victim='baeed6ee-1150-5f0e-a2ea-4f6df6985c7d', victimLocation=Location(x=8468, y=-6452), assistants=[], playerLocations=[PlayerLocation(subject='9e843164-9005-59e9-b6d2-f195f9e27ec3', viewRadians=3.9796249866485596, location=Location(x=7733, y=-4071)), PlayerLocation(subject='c65ebe29-155d-5fe5-b57e-4e0135538473', viewRadians=2.3910470008850098, location=Location(x=9158, y=-6505)), PlayerLocation(subject='3142ab15-08d5-5431-8839-3264e0b215ad', viewRadians=5.245529651641846, location=Location(x=8161, y=1857)), PlayerLocation(subject='c778a155-6a7e-595b-91e5-02ddf52041d9', viewRadians=5.707345008850098, location=Location(x=5043, y=-4234)), PlayerLocation(subject='60f313d7-143a-580b-8514-812f321095ea', viewRadians=4.005607604980469, location=Location(x=9452, y=-2350)), PlayerLocation(subject='6afb2ce3-9850-51f7-9cbe-54d72a87b15f', viewRadians=5.320036888122559, location=Location(x=7197, y=-4603)), PlayerLocation(subject='9de6841b-7461-5abd-a807-eaf480054b10', viewRadians=5.2194647789001465, location=Location(x=6746, y=-3070))], finishingDamage=FinishingDamage(damageType='Weapon', damageItem='1baa85b4-4c70-1284-64bb-6481dfc3bb4e', isSecondaryFireMode=False))], damage=[DamageEvent(receiver='baeed6ee-1150-5f0e-a2ea-4f6df6985c7d', damage=105, legshots=0, bodyshots=0, headshots=1)], score=230, economy=Economy(loadoutValue=700, weapon='1baa85b4-4c70-1284-64bb-6481dfc3bb4e', armor=None, remaining=100, spent=700), ability=Ability(grenadeEffects=None, ability1Effects=None, ability2Effects=None, ultimateEffects=None), wasAfk=False, wasPenalized=False, stayedInSpawn=False), PlayerStat(subject='9de6841b-7461-5abd-a807-eaf480054b10', kills=[KillEvent(gameTime=84452, roundTime=29440, killer='9de6841b-7461-5abd-a807-eaf480054b10', victim='c778a155-6a7e-595b-91e5-02ddf52041d9', victimLocation=Location(x=7515, y=-5552), assistants=[], playerLocations=[PlayerLocation(subject='9e843164-9005-59e9-b6d2-f195f9e27ec3', viewRadians=6.226811408996582, location=Location(x=7669, y=-5383)), PlayerLocation(subject='c65ebe29-155d-5fe5-b57e-4e0135538473', viewRadians=1.6018593311309814, location=Location(x=7667, y=-6366)), PlayerLocation(subject='3142ab15-08d5-5431-8839-3264e0b215ad', viewRadians=4.147709369659424, location=Location(x=9541, y=-1987)), PlayerLocation(subject='9de6841b-7461-5abd-a807-eaf480054b10', viewRadians=4.845557689666748, location=Location(x=7243, y=-3435))], finishingDamage=FinishingDamage(damageType='Weapon', damageItem='1baa85b4-4c70-1284-64bb-6481dfc3bb4e', isSecondaryFireMode=False))], damage=[DamageEvent(receiver='c778a155-6a7e-595b-91e5-02ddf52041d9', damage=135, legshots=0, bodyshots=1, headshots=1)], score=235, economy=Economy(loadoutValue=750, weapon='1baa85b4-4c70-1284-64bb-6481dfc3bb4e', armor=None, remaining=50, spent=750), ability=Ability(grenadeEffects=None, ability1Effects=None, ability2Effects=None, ultimateEffects=None), wasAfk=False, wasPenalized=False, stayedInSpawn=False)], roundResultCode='Elimination', playerEconomies=[Economy(loadoutValue=700, weapon='29a0cfab-485b-f5d5-779a-b59f85e204a8', armor=None, remaining=100, spent=700), Economy(loadoutValue=1000, weapon='e336c6b8-418d-9340-d77f-7a9e4cfe0702', armor=None, remaining=0, spent=800), Economy(loadoutValue=900, weapon='1baa85b4-4c70-1284-64bb-6481dfc3bb4e', armor=None, remaining=100, spent=700), Economy(loadoutValue=900, weapon='1baa85b4-4c70-1284-64bb-6481dfc3bb4e', armor=None, remaining=50, spent=750), Economy(loadoutValue=700, weapon='1baa85b4-4c70-1284-64bb-6481dfc3bb4e', armor=None, remaining=100, spent=700), Economy(loadoutValue=600, weapon='29a0cfab-485b-f5d5-779a-b59f85e204a8', armor=None, remaining=0, spent=800), Economy(loadoutValue=800, weapon='29a0cfab-485b-f5d5-779a-b59f85e204a8', armor='4dec83d5-4902-9ab3-bed6-a7a390761157', remaining=0, spent=800), Economy(loadoutValue=800, weapon='1baa85b4-4c70-1284-64bb-6481dfc3bb4e', armor=None, remaining=150, spent=650), Economy(loadoutValue=700, weapon='1baa85b4-4c70-1284-64bb-6481dfc3bb4e', armor=None, remaining=100, spent=700), Economy(loadoutValue=750, weapon='1baa85b4-4c70-1284-64bb-6481dfc3bb4e', armor=None, remaining=50, spent=750)], playerScores=[Score(subject='5c0b4b5d-d400-5702-ac18-bea54b11695c', score=0), Score(subject='618892e4-a1a0-5854-a859-ce5ab6e0e403', score=0), Score(subject='3142ab15-08d5-5431-8839-3264e0b215ad', score=0), Score(subject='9de6841b-7461-5abd-a807-eaf480054b10', score=235), Score(subject='9e843164-9005-59e9-b6d2-f195f9e27ec3', score=457), Score(subject='baeed6ee-1150-5f0e-a2ea-4f6df6985c7d', score=25), Score(subject='c65ebe29-155d-5fe5-b57e-4e0135538473', score=460), Score(subject='c778a155-6a7e-595b-91e5-02ddf52041d9', score=230), Score(subject='60f313d7-143a-580b-8514-812f321095ea', score=308), Score(subject='6afb2ce3-9850-51f7-9cbe-54d72a87b15f', score=230)])"
      ]
     },
     "execution_count": 88,
     "metadata": {},
     "output_type": "execute_result"
    }
   ],
   "source": [
    "#dict_keys(['roundNum', 'roundResult', 'roundCeremony', 'winningTeam', 'bombPlanter', 'bombDefuser', 'plantRoundTime', \n",
    "# 'plantPlayerLocations', 'plantLocation', 'plantSite', 'defuseRoundTime', 'defusePlayerLocations', 'defuseLocation', \n",
    "# 'playerStats', 'roundResultCode', 'playerEconomies', 'playerScores'])\n",
    "RoundData.parse_obj(d[\"roundResults\"][0])\n",
    "\n",
    "\n",
    "# AllRoundResults.parse_obj(d[\"roundResults\"])"
   ]
  },
  {
   "cell_type": "code",
   "execution_count": 82,
   "metadata": {},
   "outputs": [
    {
     "data": {
      "text/plain": [
       "[{'teamId': 'Red',\n",
       "  'won': False,\n",
       "  'roundsPlayed': 19,\n",
       "  'roundsWon': 6,\n",
       "  'numPoints': 6,\n",
       "  'rosterInfo': None},\n",
       " {'teamId': 'Blue',\n",
       "  'won': True,\n",
       "  'roundsPlayed': 19,\n",
       "  'roundsWon': 13,\n",
       "  'numPoints': 13,\n",
       "  'rosterInfo': None}]"
      ]
     },
     "execution_count": 82,
     "metadata": {},
     "output_type": "execute_result"
    }
   ],
   "source": [
    "d[\"teams\"]"
   ]
  }
 ],
 "metadata": {
  "kernelspec": {
   "display_name": "mojo",
   "language": "python",
   "name": "python3"
  },
  "language_info": {
   "codemirror_mode": {
    "name": "ipython",
    "version": 3
   },
   "file_extension": ".py",
   "mimetype": "text/x-python",
   "name": "python",
   "nbconvert_exporter": "python",
   "pygments_lexer": "ipython3",
   "version": "3.12.3"
  }
 },
 "nbformat": 4,
 "nbformat_minor": 2
}
